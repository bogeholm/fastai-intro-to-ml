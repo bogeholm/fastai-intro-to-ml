{
 "cells": [
  {
   "cell_type": "markdown",
   "metadata": {},
   "source": [
    "# Course lecture\n",
    "[3 - Performance, Validation and Model Interpretation](http://course18.fast.ai/lessonsml1/lesson3.html)\n",
    "\n",
    "[![Open In Colab](https://colab.research.google.com/assets/colab-badge.svg)](https://colab.research.google.com/github/bogeholm/fastai-intro-to-ml/blob/master/3-performance-validation-and-model-interpretation.ipynb)"
   ]
  },
  {
   "cell_type": "markdown",
   "metadata": {},
   "source": [
    "# Notes\n",
    "## Notes from last\n",
    "- Default settings of Random Forests in `scikit-learn` are very reasonable\n",
    "- `proc_df()` from `fast.ai` adds a Boolean `isnull` column for *numerical* values, after replacing nulls with the *median*\n",
    "- There may be values in the test set that weren't in the training set\n",
    "- The median may differ between the training and test sets\n",
    "- `proc_df()` changed to return `nas`, a dictionary with names of columns with nulls as keys, and medians as values\n",
    "- `nas` can be passed as an optional argument to the new `proc_df()`, as well as being returned from it\n",
    "\n",
    "## Main topic\n",
    "- Understanding the results of the model - Random Forests are not black boxes\n",
    "\n",
    "### Predictive confidence\n",
    "- We don't just want a prediction, we want a confidence of the prediction. Any 'unusual' rows should get low confidence\n",
    "- If the standard deviation of a row prediction between trees is high, we have low confidence\n",
    "\n",
    "### Feature importance\n",
    "- Importance can be used to find out *which features to learn more about*\n",
    "- If importance goes against expectations, it is worthwhile to investigate. Data problems? New knowledge?\n",
    "- Maybe a column is only predictive for values that are *missing*? In an example (1:11:45), information about research grant applications - the topic of interest - was only entered into a database *manually* for grant applications *that were accepted*; ie. `null => acceptance=False`. This is **data leakage**. \n",
    "- **Colinearity** is another possibility - the variable could be indicative of something else entirely. Ie. `OLED_screen=True` for TV sets would likely indicate a later manufacturing date that `plasma_screen=True` \n",
    "- By removing less important variables, you are potentially removing sources of colinearity. This makes the 'true' relationships more clear\n",
    "- If possible, inspect the variables deeper. Fuzzy variables (eg. `fiModelDesc`); can they be ordered? Can we split the strings?\n",
    "\n",
    "\n",
    "### Tips on large datasets - side topic\n",
    "- Large datasets means $\\approxeq 10^8$ rows in this particular definition. A specific example is the [Kaggle groceries competition](https://www.kaggle.com/c/favorita-grocery-sales-forecasting), featuring a relational star-schema dataset\n",
    "- Create a type dict for pandas to use while loading data, to not consume too much RAM for inferring types; eg:\n",
    "```python\n",
    "types = {'id': 'int32', 'category':'int8'}\n",
    "df = pd.read_csv('data.csv', dtype=types)\n",
    "```\n",
    "- Use UNIX `shuf` command to get a random sample of the lines in the dataset. Then work as much as possible on the sample before progressing\n",
    "- Convert as many as possible `object` columns into more primitive types (`bool`s, `int32`s, ...)\n",
    "- Random subsampling for each tree in a forest with [`set_rf_samples()`](https://github.com/fastai/fastai/blob/c655762c3dc835ea61ad9143d84f1c3b47fe60f4/old/fastai/structured.py#L398) can be useful\n",
    "- Set `min_samples_leaf=LARGISH_NUMBER` (`100` suggested at 31:00) to save time_resources\n",
    "- Do not use `oob_score=True` when using `set_rf_samples()` on very large datasets\n",
    "- RandomForests do not work well on the groceries dataset out of the box\n",
    "- Hacker tip: take the last two week of data; use store, item, on_promotion average sales - that got into the top 30 on Kaggle!\n",
    "\n",
    "### Other tips\n",
    "- Check out `pandas` function `df.describe(include='all')`\n",
    "- Check out `%prun` for profiling function calls in notebooks\n",
    "- When working with time series, you will generally have dates **later** in the data set you want to predict, than in the training set. If you want to use a subset of the training set for experimenting, use the **latest** dates possible (*in general*)\n",
    "\n",
    "\n",
    "## Further notes\n",
    "- Random Forests are fine for structured data\n",
    "- For unstructured data (images, speech, ...), try deep learning\n",
    "- Quality of validation set directly influences quality of model in production\n",
    "- Plotting \"quality\" of validation set on the `x`-axis and quality in production on `y`-axis should ideally produce a straight line\n",
    "- Coding Machine Learning is not technically difficult - but if you get a tiny detail wrong, it means your model ends up worse than it could. If you're not doing eg. Kaggle, there's not a good way to know that. This is an open problem.\n",
    "- Supplement your model using external data, if possible (historical weather data, oil price, ...).\n",
    "- Check out [Rossman store sales](https://www.kaggle.com/c/rossmann-store-sales/overview/description) on Kaggle, and [XGBoost](https://xgboost.readthedocs.io/en/latest/index.html). See also the [Kaggle blog](https://medium.com/kaggle-blog)\n",
    "\n",
    "\n",
    "# Implementation plan\n",
    "- [ ] Determine *test* vs. *validation* set nomenclature\n",
    "- [x] Read the data you saved last time\n",
    "- [x] `min_samples_leaf=3` and `max_features=0.5` turned out fine last time. \n",
    "  - [ ] Describe what these settings do\n",
    "- [x] Inspect the data, looking at relative standard deviation based on categories (`std` / `prediction`)\n",
    "- [x] Validation set are the last `12_000` values of the test set\n",
    "- [x] Take 50 trees, and add `std` to a dataFrame copy\n",
    "- [ ] Compare predictions using all variables, and only the - say - top ten\n",
    "- [x] Use pandas plotting functions, for the sport of it (ordered, barplots, whatever looks good)\n",
    "- [x] Shuffle values in each column, and compare model prediction with original \n",
    "- [x] Look at [`rf_feat_importance`](https://github.com/fastai/fastai/blob/c655762c3dc835ea61ad9143d84f1c3b47fe60f4/old/fastai/structured.py#L394) (from `fast.ai`, based on `scikit-learn`)\n",
    "  - [ ] Describe these values\n",
    "- [ ] Move `split_dataset()` to [dataworks](https://github.com/bogeholm/dataworks)\n",
    "- [ ] Fix the codes returned from `categorize_df()`\n",
    "\n",
    "## Technique for inspecting feature importance\n",
    "- Start with base dataset and make a predictive model $m_0$.\n",
    "- Pick a column, and randomly shuffle it. Compare $R^2$ and RMSE of $m_0$ on the original and shuffled datasets.\n",
    "- Why not just exclude the column? That would mean training a whole new random forest for each column, which is slow.\n",
    "\n",
    "## Ideas for improvement\n",
    "- Look at `train_cats(df)` and `apply_cats(df1, df2)` which are called (in that order) before `proc_df()`\n",
    "- Keep track of missing values `in proc_df`? Return dict with missing column values, as well as medians, to use on unseen data, or data subsets\n",
    "- Use all values for training (test set), *last* 12_000 for validation\n",
    "- Parallelize! (1:00:00) Check out `parallel_trees()` from `fast.ai`"
   ]
  },
  {
   "cell_type": "markdown",
   "metadata": {},
   "source": [
    "## Install [dataworks](https://github.com/bogeholm/dataworks)"
   ]
  },
  {
   "cell_type": "code",
   "execution_count": 1,
   "metadata": {},
   "outputs": [],
   "source": [
    "# Uncomment to install dataworks:\n",
    "#!pip install --upgrade --quiet git+git://github.com/bogeholm/dataworks.git"
   ]
  },
  {
   "cell_type": "markdown",
   "metadata": {},
   "source": [
    "## Get [notebook utilities file](https://github.com/bogeholm/fastai-intro-to-ml/blob/master/notebookutils.py) - only relevant if in Colab"
   ]
  },
  {
   "cell_type": "code",
   "execution_count": 2,
   "metadata": {},
   "outputs": [],
   "source": [
    "# Uncomment to fetch notebook utilities\n",
    "#!curl --proto '=https' --tlsv1.2 -sSf --output notebookutils.py 'https://raw.githubusercontent.com/bogeholm/fastai-intro-to-ml/master/notebookutils.py'"
   ]
  },
  {
   "cell_type": "markdown",
   "metadata": {},
   "source": [
    "## Imports"
   ]
  },
  {
   "cell_type": "code",
   "execution_count": 3,
   "metadata": {},
   "outputs": [],
   "source": [
    "import matplotlib.pyplot as plt\n",
    "import numpy as np\n",
    "import os\n",
    "import pandas as pd\n",
    "import sys\n",
    "\n",
    "#from dataworks.df_utils import (add_datefields, add_nan_columns, categorize_df, inspect_df, \n",
    "#    numeric_nans, summarize_df,)\n",
    "\n",
    "from collections import OrderedDict\n",
    "from notebookutils import get_basepath, rmse, print_score\n",
    "from typing import Optional, List, Tuple\n",
    "from sklearn.ensemble import RandomForestRegressor\n",
    "from sklearn.metrics import r2_score\n",
    "\n",
    "# POandas options\n",
    "pd.set_option('display.max_rows', 10)\n",
    "pd.set_option('display.max_columns', 10)\n",
    "\n",
    "# Matplotlib/Jupyter extras and options\n",
    "from IPython.display import display, set_matplotlib_formats\n",
    "from IPython.core.pylabtools import figsize\n",
    "\n",
    "%matplotlib inline\n",
    "set_matplotlib_formats('png')\n",
    "# https://matplotlib.org/3.1.1/gallery/style_sheets/style_sheets_reference.html\n",
    "plt.style.use('seaborn-whitegrid')\n",
    "plt.rcParams.update({'font.size': 16})"
   ]
  },
  {
   "cell_type": "markdown",
   "metadata": {},
   "source": [
    "## Mount Google Drive (for [Colab](https://colab.research.google.com/) integration)"
   ]
  },
  {
   "cell_type": "code",
   "execution_count": 4,
   "metadata": {},
   "outputs": [],
   "source": [
    "BASEPATH = get_basepath()"
   ]
  },
  {
   "cell_type": "code",
   "execution_count": 5,
   "metadata": {},
   "outputs": [
    {
     "name": "stdout",
     "output_type": "stream",
     "text": [
      "DATAPATH: C:\\Users\\tbm\\Documents\\machinelearning\\fastai-intro-to-ml\\data\\bulldozers\n"
     ]
    }
   ],
   "source": [
    "DATAPATH = os.path.join(*[BASEPATH, 'bulldozers'])\n",
    "print(f'DATAPATH: {DATAPATH}')"
   ]
  },
  {
   "cell_type": "markdown",
   "metadata": {},
   "source": [
    "### Read dataset"
   ]
  },
  {
   "cell_type": "code",
   "execution_count": 6,
   "metadata": {},
   "outputs": [],
   "source": [
    "DATASET = os.path.join(*[DATAPATH, 'Train-Preprocessed.zip'])\n",
    "df_all = pd.read_csv(DATASET, index_col=0)\n",
    "\n",
    "# The codes are not imediately usefull, since they are saved as text, so we skip importing them for now\n",
    "# CODESET = os.path.join(*[DATAPATH, 'Train-Codes.zip'])\n",
    "# df_codes = pd.read_csv(CODESET, index_col=0)"
   ]
  },
  {
   "cell_type": "code",
   "execution_count": 7,
   "metadata": {},
   "outputs": [
    {
     "data": {
      "text/plain": [
       "True"
      ]
     },
     "execution_count": 7,
     "metadata": {},
     "output_type": "execute_result"
    }
   ],
   "source": [
    "# Let'scheck if we got the log of sale price\n",
    "'LogSalePrice' in df_all.columns"
   ]
  },
  {
   "cell_type": "markdown",
   "metadata": {},
   "source": [
    "## Notebook utilities"
   ]
  },
  {
   "cell_type": "code",
   "execution_count": 8,
   "metadata": {},
   "outputs": [],
   "source": [
    "def display_allrows(df):\n",
    "    \"\"\" Override max rows and display them all\n",
    "    \"\"\"\n",
    "    with pd.option_context('display.max_rows', len(df)):\n",
    "        display(df)"
   ]
  },
  {
   "cell_type": "markdown",
   "metadata": {},
   "source": [
    "## Split dataset"
   ]
  },
  {
   "cell_type": "code",
   "execution_count": 9,
   "metadata": {},
   "outputs": [],
   "source": [
    "def split_dataset(df: pd.DataFrame, column: str, indices: Optional[List[bool]]=None, \n",
    "                  fromto: Optional[Tuple[int, int]]=None, length: Optional[int]=None) -> Tuple[pd.DataFrame, np.array]:\n",
    "    \"\"\" Split DataFrame into dependent and independent variables. \n",
    "        'indices' overrides 'fromto', 'fromto' overrides 'length'\n",
    "    \"\"\"\n",
    "    if indices is not None:\n",
    "        resdf = df[indices].copy(deep=True)\n",
    "    elif fromto is not None:\n",
    "        (low, up) = fromto\n",
    "        resdf = df[low:up].copy(deep=True)\n",
    "    elif length is not None:\n",
    "        resdf = df[0:length].copy(deep=True)\n",
    "    else:\n",
    "        resdf = df.copy(deep=True)\n",
    "    \n",
    "    # dependent variable\n",
    "    y_vals = np.array(resdf[column].values)\n",
    "    # independent variable(s)\n",
    "    resdf.drop(columns=column, inplace=True)\n",
    "    \n",
    "    return resdf, y_vals"
   ]
  },
  {
   "cell_type": "code",
   "execution_count": 10,
   "metadata": {},
   "outputs": [
    {
     "name": "stdout",
     "output_type": "stream",
     "text": [
      "n_train: 10000\n",
      "n_valid: 5000\n"
     ]
    }
   ],
   "source": [
    "len(df_all)\n",
    "small_dataset = True\n",
    "\n",
    "n_train = 10_000 if small_dataset else len(df_all) - 12_000\n",
    "n_valid = 5_000 if small_dataset else 12_000\n",
    "assert n_train + n_valid <= len(df_all), f'Im sorry, I cannot find {n_train+n_valid} data points'\n",
    "\n",
    "print(f'n_train: {n_train}')\n",
    "print(f'n_valid: {n_valid}')"
   ]
  },
  {
   "cell_type": "code",
   "execution_count": 11,
   "metadata": {},
   "outputs": [],
   "source": [
    "X_train, y_train = split_dataset(df_all, 'LogSalePrice', fromto=(0, n_train))\n",
    "x_valid, y_valid = split_dataset(df_all, 'LogSalePrice', fromto=(n_train, n_train+n_valid))"
   ]
  },
  {
   "cell_type": "markdown",
   "metadata": {},
   "source": [
    "## Create model"
   ]
  },
  {
   "cell_type": "code",
   "execution_count": 12,
   "metadata": {},
   "outputs": [],
   "source": [
    "m0 = RandomForestRegressor(min_samples_leaf=3, max_features=0.5, n_estimators=50, n_jobs=-1, oob_score=True)"
   ]
  },
  {
   "cell_type": "code",
   "execution_count": 13,
   "metadata": {},
   "outputs": [
    {
     "name": "stdout",
     "output_type": "stream",
     "text": [
      "Wall time: 2.18 s\n"
     ]
    },
    {
     "data": {
      "text/plain": [
       "RandomForestRegressor(bootstrap=True, criterion='mse', max_depth=None,\n",
       "                      max_features=0.5, max_leaf_nodes=None,\n",
       "                      min_impurity_decrease=0.0, min_impurity_split=None,\n",
       "                      min_samples_leaf=3, min_samples_split=2,\n",
       "                      min_weight_fraction_leaf=0.0, n_estimators=50, n_jobs=-1,\n",
       "                      oob_score=True, random_state=None, verbose=0,\n",
       "                      warm_start=False)"
      ]
     },
     "execution_count": 13,
     "metadata": {},
     "output_type": "execute_result"
    }
   ],
   "source": [
    "%time m0.fit(X_train, y_train)"
   ]
  },
  {
   "cell_type": "code",
   "execution_count": 14,
   "metadata": {},
   "outputs": [
    {
     "name": "stdout",
     "output_type": "stream",
     "text": [
      "R^2:    0.952\n",
      "RMSE:   0.151\n"
     ]
    }
   ],
   "source": [
    "print_score(m0, X_train, y_train)"
   ]
  },
  {
   "cell_type": "markdown",
   "metadata": {},
   "source": [
    "### Predict LogSalePrice using the individual trees in the model"
   ]
  },
  {
   "cell_type": "code",
   "execution_count": 15,
   "metadata": {},
   "outputs": [],
   "source": [
    "def predict_treewise(model, X_data):\n",
    "    \"\"\" Predict treewise using model, assumed to be a RandomForestRegressor\n",
    "        or similar from scikit-learn. Returns mean and standard deviation.\n",
    "    \"\"\"\n",
    "    data_len = np.shape(X_data)[0]\n",
    "    n_estimators = model.n_estimators\n",
    "\n",
    "    predictions = np.zeros((data_len, n_estimators))\n",
    "\n",
    "    for idx, est in enumerate(model.estimators_):\n",
    "        pred = est.predict(X_data)\n",
    "        predictions[:, idx] = pred\n",
    "        \n",
    "    return np.mean(predictions, axis=1), np.std(predictions, axis=1)"
   ]
  },
  {
   "cell_type": "code",
   "execution_count": 16,
   "metadata": {},
   "outputs": [
    {
     "name": "stdout",
     "output_type": "stream",
     "text": [
      "Wall time: 4.5 s\n"
     ]
    }
   ],
   "source": [
    "%time pred_mean, pred_std = predict_treewise(m0, X_train)"
   ]
  },
  {
   "cell_type": "markdown",
   "metadata": {},
   "source": [
    "### Check that the mean of treewise predictions match the model prediction"
   ]
  },
  {
   "cell_type": "code",
   "execution_count": 17,
   "metadata": {},
   "outputs": [],
   "source": [
    "prediction_diff = pred_mean - m0.predict(X_train)\n",
    "assert np.allclose(prediction_diff, np.zeros(len(prediction_diff)))"
   ]
  },
  {
   "cell_type": "markdown",
   "metadata": {},
   "source": [
    "### Bar plots\n",
    "Tips for plotting:\n",
    "- [How to calculate mean values grouped on another column in Pandas](https://stackoverflow.com/questions/30482071/how-to-calculate-mean-values-grouped-on-another-column-in-pandas)\n",
    "- [pandas.DataFrame.plot.bar](https://pandas.pydata.org/pandas-docs/stable/reference/api/pandas.DataFrame.plot.bar.html)"
   ]
  },
  {
   "cell_type": "code",
   "execution_count": 18,
   "metadata": {},
   "outputs": [],
   "source": [
    "def group_barplot(df, x_col, y_col):\n",
    "    \"\"\" Group DataFrame df by x_col, plot bars with mean of values from y_col\n",
    "    \"\"\"\n",
    "    ax = df.groupby(x_col, as_index=False)[y_col].mean().plot.bar(x=x_col, y=y_col)"
   ]
  },
  {
   "cell_type": "code",
   "execution_count": 19,
   "metadata": {},
   "outputs": [],
   "source": [
    "df_pred = X_train.copy(deep=True)"
   ]
  },
  {
   "cell_type": "code",
   "execution_count": 20,
   "metadata": {},
   "outputs": [],
   "source": [
    "df_pred['pred_mean'] = pred_mean\n",
    "df_pred['pred_std'] = pred_std\n",
    "# Coefficient of variation \n",
    "df_pred['pred_cvar'] = pred_std / pred_mean"
   ]
  },
  {
   "cell_type": "markdown",
   "metadata": {},
   "source": [
    "### Let's have a look at `Coupler_System`\n",
    "Below we can see at least two things:\n",
    "1. The categories are not particularly informative, since we've replaced the original labels with categories. \n",
    "2. However, `0` represent a `null` value for category, and it makes intuitive sense that this has the largest coefficient of variation"
   ]
  },
  {
   "cell_type": "code",
   "execution_count": 21,
   "metadata": {},
   "outputs": [],
   "source": [
    "# df_pred.columns\n",
    "# np.unique(df_pred.Coupler_System_category)"
   ]
  },
  {
   "cell_type": "code",
   "execution_count": 22,
   "metadata": {},
   "outputs": [
    {
     "data": {
      "image/png": "[encoded data removed]",
      "text/plain": [
       "<Figure size 432x288 with 1 Axes>"
      ]
     },
     "metadata": {
      "needs_background": "light"
     },
     "output_type": "display_data"
    }
   ],
   "source": [
    "group_barplot(df_pred, 'Coupler_System_category', 'pred_mean')"
   ]
  },
  {
   "cell_type": "code",
   "execution_count": 23,
   "metadata": {},
   "outputs": [
    {
     "data": {
      "image/png": "[encoded data removed]",
      "text/plain": [
       "<Figure size 432x288 with 1 Axes>"
      ]
     },
     "metadata": {
      "needs_background": "light"
     },
     "output_type": "display_data"
    }
   ],
   "source": [
    "group_barplot(df_pred, 'Coupler_System_category', 'pred_cvar')"
   ]
  },
  {
   "cell_type": "markdown",
   "metadata": {},
   "source": [
    "## Checking the $R^2$ value for shuffled columns"
   ]
  },
  {
   "cell_type": "code",
   "execution_count": 24,
   "metadata": {},
   "outputs": [],
   "source": [
    "def shuffle_cols(df):\n",
    "    \"\"\" Return an iterator over df's shuffled columns. \n",
    "        Yields shuffled df and colname\n",
    "    \"\"\"\n",
    "    dfc = df.copy(deep=True)\n",
    "    \n",
    "    for col in df.columns.values:\n",
    "        org_col = df[col].values\n",
    "        shuf_col = np.copy(org_col)\n",
    "        np.random.shuffle(shuf_col)\n",
    "        \n",
    "        dfc[col] = shuf_col\n",
    "        yield (dfc, col)\n",
    "        dfc[col] = org_col"
   ]
  },
  {
   "cell_type": "code",
   "execution_count": 25,
   "metadata": {},
   "outputs": [],
   "source": [
    "def shuffle_predict(model, X_data, y_data):\n",
    "    \"\"\" Shuffle columns of X_data one at a time, and predict with model\n",
    "    \"\"\"\n",
    "    shuffler = shuffle_cols(X_data)\n",
    "    columns = X_data.columns.values\n",
    "    n_columns = len(columns)\n",
    "    \n",
    "    # Prepare OrderedDict with return values\n",
    "    resdict = OrderedDict()\n",
    "    columns = []\n",
    "    r2_vals = np.zeros(n_columns)\n",
    "    rmse_vals = np.zeros(n_columns)\n",
    "    \n",
    "    for idx, (df_shuffle, colname) in enumerate(shuffler):\n",
    "        columns.append(colname)\n",
    "        # Predict with one column shuffled \n",
    "        shuffle_predict = model.predict(df_shuffle)\n",
    "        \n",
    "        # R squared and RMSE\n",
    "        r2_vals[idx] = r2_score(shuffle_predict, y_data)\n",
    "        rmse_vals[idx] = rmse(shuffle_predict, y_data)\n",
    "    \n",
    "    resdict['column'] = columns    \n",
    "    resdict['r2'] = r2_vals\n",
    "    resdict['rmse'] = rmse_vals\n",
    "    \n",
    "    resdf = pd.DataFrame(resdict)\n",
    "    resdf.sort_values('r2', ascending=True, inplace=True)\n",
    "    resdf.reset_index(inplace=True)\n",
    "    return resdf"
   ]
  },
  {
   "cell_type": "code",
   "execution_count": 26,
   "metadata": {},
   "outputs": [
    {
     "name": "stdout",
     "output_type": "stream",
     "text": [
      "Wall time: 14.7 s\n"
     ]
    }
   ],
   "source": [
    "%time df_shuf = shuffle_predict(m0, X_train, y_train)"
   ]
  },
  {
   "cell_type": "code",
   "execution_count": 27,
   "metadata": {},
   "outputs": [
    {
     "data": {
      "image/png": "[encoded data removed]",
      "text/plain": [
       "<Figure size 864x432 with 1 Axes>"
      ]
     },
     "metadata": {
      "needs_background": "light"
     },
     "output_type": "display_data"
    }
   ],
   "source": [
    "figsize(12, 6)\n",
    "fig, ax = plt.subplots(1, 1)\n",
    "\n",
    "orig_r2 = r2_score(m0.predict(X_train), y_train)\n",
    "ax.axhline(orig_r2, c='red', label='Original $R^2$')\n",
    "\n",
    "df_shuf.head(10).plot.bar(ax=ax, x='column', y='r2', label='$R^2$ with shuffled column')\n",
    "\n",
    "ax.legend(fontsize=12)\n",
    "ax.get_legend().set_bbox_to_anchor((1, 0.75))\n",
    "\n",
    "ax.xaxis.set_tick_params(rotation=45)"
   ]
  },
  {
   "cell_type": "markdown",
   "metadata": {},
   "source": [
    "### Feature importance\n",
    "See [Feature importances with forests of trees](https://scikit-learn.org/stable/auto_examples/ensemble/plot_forest_importances.html)"
   ]
  },
  {
   "cell_type": "code",
   "execution_count": 28,
   "metadata": {},
   "outputs": [
    {
     "data": {
      "text/plain": [
       "True"
      ]
     },
     "execution_count": 28,
     "metadata": {},
     "output_type": "execute_result"
    }
   ],
   "source": [
    "len(m0.feature_importances_) == X_train.shape[1]"
   ]
  },
  {
   "cell_type": "code",
   "execution_count": 29,
   "metadata": {},
   "outputs": [],
   "source": [
    "def feature_importance(model):\n",
    "    \"\"\" Return mean and std of random forest feature importance\n",
    "    \"\"\"\n",
    "    # The mean is included\n",
    "    importance = model.feature_importances_\n",
    "    \n",
    "    # Iterate to get the std\n",
    "    tree_importance = np.array([tree.feature_importances_ for tree in model.estimators_])\n",
    "    \n",
    "    return importance, np.std(tree_importance, axis=0)"
   ]
  },
  {
   "cell_type": "code",
   "execution_count": 30,
   "metadata": {},
   "outputs": [
    {
     "name": "stdout",
     "output_type": "stream",
     "text": [
      "59\n",
      "59\n"
     ]
    }
   ],
   "source": [
    "m, s = feature_importance(m0)\n",
    "print(len(m))\n",
    "print(len(s))"
   ]
  },
  {
   "cell_type": "code",
   "execution_count": 31,
   "metadata": {},
   "outputs": [],
   "source": [
    "def feature_importance_df(model, columns):\n",
    "    \"\"\" Return DataFrame of feature importances and standard deviations,\n",
    "        sorted after largest importance\n",
    "    \"\"\"\n",
    "    imp_mean, imp_std = feature_importance(model)\n",
    "    sort_index = np.argsort(imp_mean)[::-1]\n",
    "    \n",
    "    resdict = OrderedDict()\n",
    "    resdict['column'] = columns[sort_index]\n",
    "    resdict['importance'] = imp_mean[sort_index]\n",
    "    resdict['importance_std'] = imp_std[sort_index]\n",
    "    \n",
    "    return pd.DataFrame(resdict)"
   ]
  },
  {
   "cell_type": "code",
   "execution_count": 32,
   "metadata": {},
   "outputs": [],
   "source": [
    "df_imp = feature_importance_df(m0, X_train.columns.values)"
   ]
  },
  {
   "cell_type": "code",
   "execution_count": 33,
   "metadata": {},
   "outputs": [
    {
     "data": {
      "image/png": "[encoded data removed]",
      "text/plain": [
       "<Figure size 864x432 with 1 Axes>"
      ]
     },
     "metadata": {
      "needs_background": "light"
     },
     "output_type": "display_data"
    }
   ],
   "source": [
    "figsize(12, 6)\n",
    "fig, ax = plt.subplots(1, 1)\n",
    "\n",
    "df_imp.head(10).plot.bar(ax=ax, x='column', y='importance', label='Feature importance', yerr='importance_std')\n",
    "\n",
    "ax.legend(fontsize=12)\n",
    "ax.get_legend().set_bbox_to_anchor((1.25, 0.75))\n",
    "\n",
    "\n",
    "ax.xaxis.set_tick_params(rotation=45)"
   ]
  },
  {
   "cell_type": "code",
   "execution_count": null,
   "metadata": {},
   "outputs": [],
   "source": []
  },
  {
   "cell_type": "code",
   "execution_count": null,
   "metadata": {},
   "outputs": [],
   "source": []
  },
  {
   "cell_type": "code",
   "execution_count": null,
   "metadata": {},
   "outputs": [],
   "source": []
  }
 ],
 "metadata": {
  "kernelspec": {
   "display_name": "Python 3",
   "language": "python",
   "name": "python3"
  },
  "language_info": {
   "codemirror_mode": {
    "name": "ipython",
    "version": 3
   },
   "file_extension": ".py",
   "mimetype": "text/x-python",
   "name": "python",
   "nbconvert_exporter": "python",
   "pygments_lexer": "ipython3",
   "version": "3.7.3"
  }
 },
 "nbformat": 4,
 "nbformat_minor": 4
}

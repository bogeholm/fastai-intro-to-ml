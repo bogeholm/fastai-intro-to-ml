{
  "nbformat": 4,
  "nbformat_minor": 0,
  "metadata": {
    "kernelspec": {
      "display_name": "Python 3",
      "language": "python",
      "name": "python3"
    },
    "language_info": {
      "codemirror_mode": {
        "name": "ipython",
        "version": 3
      },
      "file_extension": ".py",
      "mimetype": "text/x-python",
      "name": "python",
      "nbconvert_exporter": "python",
      "pygments_lexer": "ipython3",
      "version": "3.7.3"
    },
    "colab": {
      "name": "1-intro-to-random-forests.ipynb",
      "provenance": [],
      "include_colab_link": true
    }
  },
  "cells": [
    {
      "cell_type": "markdown",
      "metadata": {
        "id": "view-in-github",
        "colab_type": "text"
      },
      "source": [
        "<a href=\"https://colab.research.google.com/github/bogeholm/fastai-intro-to-ml/blob/master/1-intro-to-random-forests.ipynb\" target=\"_parent\"><img src=\"https://colab.research.google.com/assets/colab-badge.svg\" alt=\"Open In Colab\"/></a>"
      ]
    },
    {
      "cell_type": "markdown",
      "metadata": {
        "id": "_4n88eEHrTvH",
        "colab_type": "text"
      },
      "source": [
        "### Course lecture\n",
        "[1 - Introduction to Random Forests](http://course18.fast.ai/lessonsml1/lesson1.html)\n",
        "\n",
        "[![Open In Colab](https://colab.research.google.com/assets/colab-badge.svg)](https://colab.research.google.com/github/bogeholm/fastai-intro-to-ml/blob/master/1-intro-to-random-forests.ipynb)"
      ]
    },
    {
      "cell_type": "markdown",
      "metadata": {
        "id": "_jSkH6HMrTvN",
        "colab_type": "text"
      },
      "source": [
        "### Install packages"
      ]
    },
    {
      "cell_type": "code",
      "metadata": {
        "id": "LaN2IIYprTvS",
        "colab_type": "code",
        "outputId": "5af18de1-46af-468d-ea30-d33060b65d11",
        "colab": {
          "base_uri": "https://localhost:8080/",
          "height": 34
        }
      },
      "source": [
        "# Uncomment to install utilities: https://github.com/bogeholm/dataworks\n",
        "!pip install --quiet --upgrade git+git://github.com/bogeholm/dataworks.git"
      ],
      "execution_count": 37,
      "outputs": [
        {
          "output_type": "stream",
          "text": [
            "  Building wheel for dataworks (setup.py) ... \u001b[?25l\u001b[?25hdone\n"
          ],
          "name": "stdout"
        }
      ]
    },
    {
      "cell_type": "markdown",
      "metadata": {
        "id": "T3H1YUcJrTvh",
        "colab_type": "text"
      },
      "source": [
        "### Imports"
      ]
    },
    {
      "cell_type": "code",
      "metadata": {
        "id": "mN2O6bAGrTvj",
        "colab_type": "code",
        "colab": {}
      },
      "source": [
        "import joblib\n",
        "import numpy as np\n",
        "import os\n",
        "import pandas as pd\n",
        "import sys\n",
        "\n",
        "from dataworks.df_utils import *#inspect_df, summarize_df, add_datefields, add_nan_columns, numeric_nans, categorize_df\n",
        "\n",
        "from IPython.display import display\n",
        "from sklearn import metrics\n",
        "from sklearn.ensemble import RandomForestRegressor\n",
        "\n",
        "pd.set_option('display.max_rows', 10)\n",
        "pd.set_option('display.max_columns', 10)"
      ],
      "execution_count": 0,
      "outputs": []
    },
    {
      "cell_type": "markdown",
      "metadata": {
        "id": "Mn2NPp-PrTvs",
        "colab_type": "text"
      },
      "source": [
        "### Set data path"
      ]
    },
    {
      "cell_type": "code",
      "metadata": {
        "id": "mS71cJxzrTvw",
        "colab_type": "code",
        "colab": {}
      },
      "source": [
        "def get_basepath(basepath_local='', basepath_colab='drive/My Drive/'):\n",
        "    \"\"\" Return path to base directory depending on whether the\n",
        "        notebook is running in Google Colab or not\n",
        "    \"\"\"\n",
        "    if 'google.colab' in sys.modules:\n",
        "        # Notebook is running in Google Colab\n",
        "        from google.colab import drive\n",
        "        drive.mount('/content/drive')\n",
        "        return basepath_colab\n",
        "    else:\n",
        "        return basepath_local"
      ],
      "execution_count": 0,
      "outputs": []
    },
    {
      "cell_type": "code",
      "metadata": {
        "id": "cbs8r6rPrTv4",
        "colab_type": "code",
        "outputId": "314937a8-9610-4635-eedb-84dfa8e5b81c",
        "colab": {
          "base_uri": "https://localhost:8080/",
          "height": 86
        }
      },
      "source": [
        "DATAPATH = get_basepath() + 'data/bulldozers/'\n",
        "MODELPATH = get_basepath() + 'models/bulldozers/'\n",
        "print(f'DATAPATH: {DATAPATH}')\n",
        "print(f'MODELPATH: {MODELPATH}')"
      ],
      "execution_count": 40,
      "outputs": [
        {
          "output_type": "stream",
          "text": [
            "Drive already mounted at /content/drive; to attempt to forcibly remount, call drive.mount(\"/content/drive\", force_remount=True).\n",
            "Drive already mounted at /content/drive; to attempt to forcibly remount, call drive.mount(\"/content/drive\", force_remount=True).\n",
            "DATAPATH: drive/My Drive/data/bulldozers/\n",
            "MODELPATH: drive/My Drive/models/bulldozers/\n"
          ],
          "name": "stdout"
        }
      ]
    },
    {
      "cell_type": "code",
      "metadata": {
        "id": "JbK8oz75rTwC",
        "colab_type": "code",
        "colab": {}
      },
      "source": [
        "df_raw = pd.read_csv(f'{DATAPATH}Train.zip', low_memory=False, parse_dates=['saledate'])"
      ],
      "execution_count": 0,
      "outputs": []
    },
    {
      "cell_type": "markdown",
      "metadata": {
        "id": "k-fiCyDzrTwJ",
        "colab_type": "text"
      },
      "source": [
        "### Utility functions"
      ]
    },
    {
      "cell_type": "code",
      "metadata": {
        "id": "Z32pKvdgrTwM",
        "colab_type": "code",
        "colab": {}
      },
      "source": [
        "def display_allrows(df):\n",
        "    \"\"\" Override max rows and display them all\n",
        "    \"\"\"\n",
        "    with pd.option_context('display.max_rows', len(df)):\n",
        "            display(df)"
      ],
      "execution_count": 0,
      "outputs": []
    },
    {
      "cell_type": "markdown",
      "metadata": {
        "id": "z2J6FQPHrTwZ",
        "colab_type": "text"
      },
      "source": [
        "### Inspect the data"
      ]
    },
    {
      "cell_type": "code",
      "metadata": {
        "id": "3M1GBZ6frTwb",
        "colab_type": "code",
        "outputId": "1bf03cde-3e67-422c-e358-40b350a4ed84",
        "colab": {
          "base_uri": "https://localhost:8080/",
          "height": 256
        }
      },
      "source": [
        "df_raw.head()"
      ],
      "execution_count": 43,
      "outputs": [
        {
          "output_type": "execute_result",
          "data": {
            "text/html": [
              "<div>\n",
              "<style scoped>\n",
              "    .dataframe tbody tr th:only-of-type {\n",
              "        vertical-align: middle;\n",
              "    }\n",
              "\n",
              "    .dataframe tbody tr th {\n",
              "        vertical-align: top;\n",
              "    }\n",
              "\n",
              "    .dataframe thead th {\n",
              "        text-align: right;\n",
              "    }\n",
              "</style>\n",
              "<table border=\"1\" class=\"dataframe\">\n",
              "  <thead>\n",
              "    <tr style=\"text-align: right;\">\n",
              "      <th></th>\n",
              "      <th>SalesID</th>\n",
              "      <th>SalePrice</th>\n",
              "      <th>MachineID</th>\n",
              "      <th>ModelID</th>\n",
              "      <th>datasource</th>\n",
              "      <th>...</th>\n",
              "      <th>Backhoe_Mounting</th>\n",
              "      <th>Blade_Type</th>\n",
              "      <th>Travel_Controls</th>\n",
              "      <th>Differential_Type</th>\n",
              "      <th>Steering_Controls</th>\n",
              "    </tr>\n",
              "  </thead>\n",
              "  <tbody>\n",
              "    <tr>\n",
              "      <th>0</th>\n",
              "      <td>1139246</td>\n",
              "      <td>66000</td>\n",
              "      <td>999089</td>\n",
              "      <td>3157</td>\n",
              "      <td>121</td>\n",
              "      <td>...</td>\n",
              "      <td>NaN</td>\n",
              "      <td>NaN</td>\n",
              "      <td>NaN</td>\n",
              "      <td>Standard</td>\n",
              "      <td>Conventional</td>\n",
              "    </tr>\n",
              "    <tr>\n",
              "      <th>1</th>\n",
              "      <td>1139248</td>\n",
              "      <td>57000</td>\n",
              "      <td>117657</td>\n",
              "      <td>77</td>\n",
              "      <td>121</td>\n",
              "      <td>...</td>\n",
              "      <td>NaN</td>\n",
              "      <td>NaN</td>\n",
              "      <td>NaN</td>\n",
              "      <td>Standard</td>\n",
              "      <td>Conventional</td>\n",
              "    </tr>\n",
              "    <tr>\n",
              "      <th>2</th>\n",
              "      <td>1139249</td>\n",
              "      <td>10000</td>\n",
              "      <td>434808</td>\n",
              "      <td>7009</td>\n",
              "      <td>121</td>\n",
              "      <td>...</td>\n",
              "      <td>NaN</td>\n",
              "      <td>NaN</td>\n",
              "      <td>NaN</td>\n",
              "      <td>NaN</td>\n",
              "      <td>NaN</td>\n",
              "    </tr>\n",
              "    <tr>\n",
              "      <th>3</th>\n",
              "      <td>1139251</td>\n",
              "      <td>38500</td>\n",
              "      <td>1026470</td>\n",
              "      <td>332</td>\n",
              "      <td>121</td>\n",
              "      <td>...</td>\n",
              "      <td>NaN</td>\n",
              "      <td>NaN</td>\n",
              "      <td>NaN</td>\n",
              "      <td>NaN</td>\n",
              "      <td>NaN</td>\n",
              "    </tr>\n",
              "    <tr>\n",
              "      <th>4</th>\n",
              "      <td>1139253</td>\n",
              "      <td>11000</td>\n",
              "      <td>1057373</td>\n",
              "      <td>17311</td>\n",
              "      <td>121</td>\n",
              "      <td>...</td>\n",
              "      <td>NaN</td>\n",
              "      <td>NaN</td>\n",
              "      <td>NaN</td>\n",
              "      <td>NaN</td>\n",
              "      <td>NaN</td>\n",
              "    </tr>\n",
              "  </tbody>\n",
              "</table>\n",
              "<p>5 rows × 53 columns</p>\n",
              "</div>"
            ],
            "text/plain": [
              "   SalesID  SalePrice  MachineID  ModelID  datasource  ...  Backhoe_Mounting  \\\n",
              "0  1139246      66000     999089     3157         121  ...               NaN   \n",
              "1  1139248      57000     117657       77         121  ...               NaN   \n",
              "2  1139249      10000     434808     7009         121  ...               NaN   \n",
              "3  1139251      38500    1026470      332         121  ...               NaN   \n",
              "4  1139253      11000    1057373    17311         121  ...               NaN   \n",
              "\n",
              "   Blade_Type  Travel_Controls Differential_Type Steering_Controls  \n",
              "0         NaN              NaN          Standard      Conventional  \n",
              "1         NaN              NaN          Standard      Conventional  \n",
              "2         NaN              NaN               NaN               NaN  \n",
              "3         NaN              NaN               NaN               NaN  \n",
              "4         NaN              NaN               NaN               NaN  \n",
              "\n",
              "[5 rows x 53 columns]"
            ]
          },
          "metadata": {
            "tags": []
          },
          "execution_count": 43
        }
      ]
    },
    {
      "cell_type": "code",
      "metadata": {
        "id": "gX7_TG6IrTwi",
        "colab_type": "code",
        "colab": {
          "base_uri": "https://localhost:8080/",
          "height": 1000
        },
        "outputId": "2e2b9032-00cb-4f8a-9a0d-1b0cb8930f77"
      },
      "source": [
        "inspect = inspect_df(df_raw)\n",
        "# Uncomment if you want to see statistics for all columns\n",
        "display_allrows(inspect)"
      ],
      "execution_count": 44,
      "outputs": [
        {
          "output_type": "display_data",
          "data": {
            "text/html": [
              "<div>\n",
              "<style scoped>\n",
              "    .dataframe tbody tr th:only-of-type {\n",
              "        vertical-align: middle;\n",
              "    }\n",
              "\n",
              "    .dataframe tbody tr th {\n",
              "        vertical-align: top;\n",
              "    }\n",
              "\n",
              "    .dataframe thead th {\n",
              "        text-align: right;\n",
              "    }\n",
              "</style>\n",
              "<table border=\"1\" class=\"dataframe\">\n",
              "  <thead>\n",
              "    <tr style=\"text-align: right;\">\n",
              "      <th></th>\n",
              "      <th>column</th>\n",
              "      <th>null_fraction</th>\n",
              "      <th>nulls</th>\n",
              "      <th>type</th>\n",
              "      <th>is_numeric</th>\n",
              "    </tr>\n",
              "  </thead>\n",
              "  <tbody>\n",
              "    <tr>\n",
              "      <th>0</th>\n",
              "      <td>SalesID</td>\n",
              "      <td>0.000</td>\n",
              "      <td>0</td>\n",
              "      <td>int64</td>\n",
              "      <td>True</td>\n",
              "    </tr>\n",
              "    <tr>\n",
              "      <th>1</th>\n",
              "      <td>state</td>\n",
              "      <td>0.000</td>\n",
              "      <td>0</td>\n",
              "      <td>object</td>\n",
              "      <td>False</td>\n",
              "    </tr>\n",
              "    <tr>\n",
              "      <th>2</th>\n",
              "      <td>fiProductClassDesc</td>\n",
              "      <td>0.000</td>\n",
              "      <td>0</td>\n",
              "      <td>object</td>\n",
              "      <td>False</td>\n",
              "    </tr>\n",
              "    <tr>\n",
              "      <th>3</th>\n",
              "      <td>fiBaseModel</td>\n",
              "      <td>0.000</td>\n",
              "      <td>0</td>\n",
              "      <td>object</td>\n",
              "      <td>False</td>\n",
              "    </tr>\n",
              "    <tr>\n",
              "      <th>4</th>\n",
              "      <td>fiModelDesc</td>\n",
              "      <td>0.000</td>\n",
              "      <td>0</td>\n",
              "      <td>object</td>\n",
              "      <td>False</td>\n",
              "    </tr>\n",
              "    <tr>\n",
              "      <th>5</th>\n",
              "      <td>ProductGroup</td>\n",
              "      <td>0.000</td>\n",
              "      <td>0</td>\n",
              "      <td>object</td>\n",
              "      <td>False</td>\n",
              "    </tr>\n",
              "    <tr>\n",
              "      <th>6</th>\n",
              "      <td>saledate</td>\n",
              "      <td>0.000</td>\n",
              "      <td>0</td>\n",
              "      <td>datetime64[ns]</td>\n",
              "      <td>False</td>\n",
              "    </tr>\n",
              "    <tr>\n",
              "      <th>7</th>\n",
              "      <td>datasource</td>\n",
              "      <td>0.000</td>\n",
              "      <td>0</td>\n",
              "      <td>int64</td>\n",
              "      <td>True</td>\n",
              "    </tr>\n",
              "    <tr>\n",
              "      <th>8</th>\n",
              "      <td>ModelID</td>\n",
              "      <td>0.000</td>\n",
              "      <td>0</td>\n",
              "      <td>int64</td>\n",
              "      <td>True</td>\n",
              "    </tr>\n",
              "    <tr>\n",
              "      <th>9</th>\n",
              "      <td>MachineID</td>\n",
              "      <td>0.000</td>\n",
              "      <td>0</td>\n",
              "      <td>int64</td>\n",
              "      <td>True</td>\n",
              "    </tr>\n",
              "    <tr>\n",
              "      <th>10</th>\n",
              "      <td>SalePrice</td>\n",
              "      <td>0.000</td>\n",
              "      <td>0</td>\n",
              "      <td>int64</td>\n",
              "      <td>True</td>\n",
              "    </tr>\n",
              "    <tr>\n",
              "      <th>11</th>\n",
              "      <td>YearMade</td>\n",
              "      <td>0.000</td>\n",
              "      <td>0</td>\n",
              "      <td>int64</td>\n",
              "      <td>True</td>\n",
              "    </tr>\n",
              "    <tr>\n",
              "      <th>12</th>\n",
              "      <td>ProductGroupDesc</td>\n",
              "      <td>0.000</td>\n",
              "      <td>0</td>\n",
              "      <td>object</td>\n",
              "      <td>False</td>\n",
              "    </tr>\n",
              "    <tr>\n",
              "      <th>13</th>\n",
              "      <td>Enclosure</td>\n",
              "      <td>0.001</td>\n",
              "      <td>325</td>\n",
              "      <td>object</td>\n",
              "      <td>False</td>\n",
              "    </tr>\n",
              "    <tr>\n",
              "      <th>14</th>\n",
              "      <td>auctioneerID</td>\n",
              "      <td>0.050</td>\n",
              "      <td>20136</td>\n",
              "      <td>float64</td>\n",
              "      <td>True</td>\n",
              "    </tr>\n",
              "    <tr>\n",
              "      <th>15</th>\n",
              "      <td>Hydraulics</td>\n",
              "      <td>0.201</td>\n",
              "      <td>80555</td>\n",
              "      <td>object</td>\n",
              "      <td>False</td>\n",
              "    </tr>\n",
              "    <tr>\n",
              "      <th>16</th>\n",
              "      <td>fiSecondaryDesc</td>\n",
              "      <td>0.342</td>\n",
              "      <td>137191</td>\n",
              "      <td>object</td>\n",
              "      <td>False</td>\n",
              "    </tr>\n",
              "    <tr>\n",
              "      <th>17</th>\n",
              "      <td>Coupler</td>\n",
              "      <td>0.467</td>\n",
              "      <td>187173</td>\n",
              "      <td>object</td>\n",
              "      <td>False</td>\n",
              "    </tr>\n",
              "    <tr>\n",
              "      <th>18</th>\n",
              "      <td>Forks</td>\n",
              "      <td>0.521</td>\n",
              "      <td>209048</td>\n",
              "      <td>object</td>\n",
              "      <td>False</td>\n",
              "    </tr>\n",
              "    <tr>\n",
              "      <th>19</th>\n",
              "      <td>ProductSize</td>\n",
              "      <td>0.525</td>\n",
              "      <td>210775</td>\n",
              "      <td>object</td>\n",
              "      <td>False</td>\n",
              "    </tr>\n",
              "    <tr>\n",
              "      <th>20</th>\n",
              "      <td>Transmission</td>\n",
              "      <td>0.543</td>\n",
              "      <td>217895</td>\n",
              "      <td>object</td>\n",
              "      <td>False</td>\n",
              "    </tr>\n",
              "    <tr>\n",
              "      <th>21</th>\n",
              "      <td>Ride_Control</td>\n",
              "      <td>0.630</td>\n",
              "      <td>252519</td>\n",
              "      <td>object</td>\n",
              "      <td>False</td>\n",
              "    </tr>\n",
              "    <tr>\n",
              "      <th>22</th>\n",
              "      <td>MachineHoursCurrentMeter</td>\n",
              "      <td>0.644</td>\n",
              "      <td>258360</td>\n",
              "      <td>float64</td>\n",
              "      <td>True</td>\n",
              "    </tr>\n",
              "    <tr>\n",
              "      <th>23</th>\n",
              "      <td>Drive_System</td>\n",
              "      <td>0.740</td>\n",
              "      <td>296764</td>\n",
              "      <td>object</td>\n",
              "      <td>False</td>\n",
              "    </tr>\n",
              "    <tr>\n",
              "      <th>24</th>\n",
              "      <td>Ripper</td>\n",
              "      <td>0.740</td>\n",
              "      <td>296988</td>\n",
              "      <td>object</td>\n",
              "      <td>False</td>\n",
              "    </tr>\n",
              "    <tr>\n",
              "      <th>25</th>\n",
              "      <td>Undercarriage_Pad_Width</td>\n",
              "      <td>0.751</td>\n",
              "      <td>301253</td>\n",
              "      <td>object</td>\n",
              "      <td>False</td>\n",
              "    </tr>\n",
              "    <tr>\n",
              "      <th>26</th>\n",
              "      <td>Thumb</td>\n",
              "      <td>0.752</td>\n",
              "      <td>301837</td>\n",
              "      <td>object</td>\n",
              "      <td>False</td>\n",
              "    </tr>\n",
              "    <tr>\n",
              "      <th>27</th>\n",
              "      <td>Pattern_Changer</td>\n",
              "      <td>0.753</td>\n",
              "      <td>301907</td>\n",
              "      <td>object</td>\n",
              "      <td>False</td>\n",
              "    </tr>\n",
              "    <tr>\n",
              "      <th>28</th>\n",
              "      <td>Stick_Length</td>\n",
              "      <td>0.753</td>\n",
              "      <td>301907</td>\n",
              "      <td>object</td>\n",
              "      <td>False</td>\n",
              "    </tr>\n",
              "    <tr>\n",
              "      <th>29</th>\n",
              "      <td>Track_Type</td>\n",
              "      <td>0.753</td>\n",
              "      <td>301972</td>\n",
              "      <td>object</td>\n",
              "      <td>False</td>\n",
              "    </tr>\n",
              "    <tr>\n",
              "      <th>30</th>\n",
              "      <td>Grouser_Type</td>\n",
              "      <td>0.753</td>\n",
              "      <td>301972</td>\n",
              "      <td>object</td>\n",
              "      <td>False</td>\n",
              "    </tr>\n",
              "    <tr>\n",
              "      <th>31</th>\n",
              "      <td>Tire_Size</td>\n",
              "      <td>0.764</td>\n",
              "      <td>306407</td>\n",
              "      <td>object</td>\n",
              "      <td>False</td>\n",
              "    </tr>\n",
              "    <tr>\n",
              "      <th>32</th>\n",
              "      <td>Blade_Type</td>\n",
              "      <td>0.801</td>\n",
              "      <td>321292</td>\n",
              "      <td>object</td>\n",
              "      <td>False</td>\n",
              "    </tr>\n",
              "    <tr>\n",
              "      <th>33</th>\n",
              "      <td>Travel_Controls</td>\n",
              "      <td>0.801</td>\n",
              "      <td>321291</td>\n",
              "      <td>object</td>\n",
              "      <td>False</td>\n",
              "    </tr>\n",
              "    <tr>\n",
              "      <th>34</th>\n",
              "      <td>Turbocharged</td>\n",
              "      <td>0.803</td>\n",
              "      <td>321991</td>\n",
              "      <td>object</td>\n",
              "      <td>False</td>\n",
              "    </tr>\n",
              "    <tr>\n",
              "      <th>35</th>\n",
              "      <td>Stick</td>\n",
              "      <td>0.803</td>\n",
              "      <td>321991</td>\n",
              "      <td>object</td>\n",
              "      <td>False</td>\n",
              "    </tr>\n",
              "    <tr>\n",
              "      <th>36</th>\n",
              "      <td>Pad_Type</td>\n",
              "      <td>0.803</td>\n",
              "      <td>321991</td>\n",
              "      <td>object</td>\n",
              "      <td>False</td>\n",
              "    </tr>\n",
              "    <tr>\n",
              "      <th>37</th>\n",
              "      <td>Backhoe_Mounting</td>\n",
              "      <td>0.804</td>\n",
              "      <td>322453</td>\n",
              "      <td>object</td>\n",
              "      <td>False</td>\n",
              "    </tr>\n",
              "    <tr>\n",
              "      <th>38</th>\n",
              "      <td>fiModelDescriptor</td>\n",
              "      <td>0.821</td>\n",
              "      <td>329206</td>\n",
              "      <td>object</td>\n",
              "      <td>False</td>\n",
              "    </tr>\n",
              "    <tr>\n",
              "      <th>39</th>\n",
              "      <td>UsageBand</td>\n",
              "      <td>0.826</td>\n",
              "      <td>331486</td>\n",
              "      <td>object</td>\n",
              "      <td>False</td>\n",
              "    </tr>\n",
              "    <tr>\n",
              "      <th>40</th>\n",
              "      <td>Steering_Controls</td>\n",
              "      <td>0.827</td>\n",
              "      <td>331756</td>\n",
              "      <td>object</td>\n",
              "      <td>False</td>\n",
              "    </tr>\n",
              "    <tr>\n",
              "      <th>41</th>\n",
              "      <td>Differential_Type</td>\n",
              "      <td>0.827</td>\n",
              "      <td>331714</td>\n",
              "      <td>object</td>\n",
              "      <td>False</td>\n",
              "    </tr>\n",
              "    <tr>\n",
              "      <th>42</th>\n",
              "      <td>fiModelSeries</td>\n",
              "      <td>0.858</td>\n",
              "      <td>344217</td>\n",
              "      <td>object</td>\n",
              "      <td>False</td>\n",
              "    </tr>\n",
              "    <tr>\n",
              "      <th>43</th>\n",
              "      <td>Hydraulics_Flow</td>\n",
              "      <td>0.892</td>\n",
              "      <td>357763</td>\n",
              "      <td>object</td>\n",
              "      <td>False</td>\n",
              "    </tr>\n",
              "    <tr>\n",
              "      <th>44</th>\n",
              "      <td>Coupler_System</td>\n",
              "      <td>0.892</td>\n",
              "      <td>357667</td>\n",
              "      <td>object</td>\n",
              "      <td>False</td>\n",
              "    </tr>\n",
              "    <tr>\n",
              "      <th>45</th>\n",
              "      <td>Grouser_Tracks</td>\n",
              "      <td>0.892</td>\n",
              "      <td>357763</td>\n",
              "      <td>object</td>\n",
              "      <td>False</td>\n",
              "    </tr>\n",
              "    <tr>\n",
              "      <th>46</th>\n",
              "      <td>Scarifier</td>\n",
              "      <td>0.937</td>\n",
              "      <td>375895</td>\n",
              "      <td>object</td>\n",
              "      <td>False</td>\n",
              "    </tr>\n",
              "    <tr>\n",
              "      <th>47</th>\n",
              "      <td>Pushblock</td>\n",
              "      <td>0.937</td>\n",
              "      <td>375906</td>\n",
              "      <td>object</td>\n",
              "      <td>False</td>\n",
              "    </tr>\n",
              "    <tr>\n",
              "      <th>48</th>\n",
              "      <td>Engine_Horsepower</td>\n",
              "      <td>0.937</td>\n",
              "      <td>375906</td>\n",
              "      <td>object</td>\n",
              "      <td>False</td>\n",
              "    </tr>\n",
              "    <tr>\n",
              "      <th>49</th>\n",
              "      <td>Enclosure_Type</td>\n",
              "      <td>0.937</td>\n",
              "      <td>375906</td>\n",
              "      <td>object</td>\n",
              "      <td>False</td>\n",
              "    </tr>\n",
              "    <tr>\n",
              "      <th>50</th>\n",
              "      <td>Blade_Width</td>\n",
              "      <td>0.937</td>\n",
              "      <td>375906</td>\n",
              "      <td>object</td>\n",
              "      <td>False</td>\n",
              "    </tr>\n",
              "    <tr>\n",
              "      <th>51</th>\n",
              "      <td>Blade_Extension</td>\n",
              "      <td>0.937</td>\n",
              "      <td>375906</td>\n",
              "      <td>object</td>\n",
              "      <td>False</td>\n",
              "    </tr>\n",
              "    <tr>\n",
              "      <th>52</th>\n",
              "      <td>Tip_Control</td>\n",
              "      <td>0.937</td>\n",
              "      <td>375906</td>\n",
              "      <td>object</td>\n",
              "      <td>False</td>\n",
              "    </tr>\n",
              "  </tbody>\n",
              "</table>\n",
              "</div>"
            ],
            "text/plain": [
              "                      column  null_fraction   nulls            type  \\\n",
              "0                    SalesID          0.000       0           int64   \n",
              "1                      state          0.000       0          object   \n",
              "2         fiProductClassDesc          0.000       0          object   \n",
              "3                fiBaseModel          0.000       0          object   \n",
              "4                fiModelDesc          0.000       0          object   \n",
              "5               ProductGroup          0.000       0          object   \n",
              "6                   saledate          0.000       0  datetime64[ns]   \n",
              "7                 datasource          0.000       0           int64   \n",
              "8                    ModelID          0.000       0           int64   \n",
              "9                  MachineID          0.000       0           int64   \n",
              "10                 SalePrice          0.000       0           int64   \n",
              "11                  YearMade          0.000       0           int64   \n",
              "12          ProductGroupDesc          0.000       0          object   \n",
              "13                 Enclosure          0.001     325          object   \n",
              "14              auctioneerID          0.050   20136         float64   \n",
              "15                Hydraulics          0.201   80555          object   \n",
              "16           fiSecondaryDesc          0.342  137191          object   \n",
              "17                   Coupler          0.467  187173          object   \n",
              "18                     Forks          0.521  209048          object   \n",
              "19               ProductSize          0.525  210775          object   \n",
              "20              Transmission          0.543  217895          object   \n",
              "21              Ride_Control          0.630  252519          object   \n",
              "22  MachineHoursCurrentMeter          0.644  258360         float64   \n",
              "23              Drive_System          0.740  296764          object   \n",
              "24                    Ripper          0.740  296988          object   \n",
              "25   Undercarriage_Pad_Width          0.751  301253          object   \n",
              "26                     Thumb          0.752  301837          object   \n",
              "27           Pattern_Changer          0.753  301907          object   \n",
              "28              Stick_Length          0.753  301907          object   \n",
              "29                Track_Type          0.753  301972          object   \n",
              "30              Grouser_Type          0.753  301972          object   \n",
              "31                 Tire_Size          0.764  306407          object   \n",
              "32                Blade_Type          0.801  321292          object   \n",
              "33           Travel_Controls          0.801  321291          object   \n",
              "34              Turbocharged          0.803  321991          object   \n",
              "35                     Stick          0.803  321991          object   \n",
              "36                  Pad_Type          0.803  321991          object   \n",
              "37          Backhoe_Mounting          0.804  322453          object   \n",
              "38         fiModelDescriptor          0.821  329206          object   \n",
              "39                 UsageBand          0.826  331486          object   \n",
              "40         Steering_Controls          0.827  331756          object   \n",
              "41         Differential_Type          0.827  331714          object   \n",
              "42             fiModelSeries          0.858  344217          object   \n",
              "43           Hydraulics_Flow          0.892  357763          object   \n",
              "44            Coupler_System          0.892  357667          object   \n",
              "45            Grouser_Tracks          0.892  357763          object   \n",
              "46                 Scarifier          0.937  375895          object   \n",
              "47                 Pushblock          0.937  375906          object   \n",
              "48         Engine_Horsepower          0.937  375906          object   \n",
              "49            Enclosure_Type          0.937  375906          object   \n",
              "50               Blade_Width          0.937  375906          object   \n",
              "51           Blade_Extension          0.937  375906          object   \n",
              "52               Tip_Control          0.937  375906          object   \n",
              "\n",
              "    is_numeric  \n",
              "0         True  \n",
              "1        False  \n",
              "2        False  \n",
              "3        False  \n",
              "4        False  \n",
              "5        False  \n",
              "6        False  \n",
              "7         True  \n",
              "8         True  \n",
              "9         True  \n",
              "10        True  \n",
              "11        True  \n",
              "12       False  \n",
              "13       False  \n",
              "14        True  \n",
              "15       False  \n",
              "16       False  \n",
              "17       False  \n",
              "18       False  \n",
              "19       False  \n",
              "20       False  \n",
              "21       False  \n",
              "22        True  \n",
              "23       False  \n",
              "24       False  \n",
              "25       False  \n",
              "26       False  \n",
              "27       False  \n",
              "28       False  \n",
              "29       False  \n",
              "30       False  \n",
              "31       False  \n",
              "32       False  \n",
              "33       False  \n",
              "34       False  \n",
              "35       False  \n",
              "36       False  \n",
              "37       False  \n",
              "38       False  \n",
              "39       False  \n",
              "40       False  \n",
              "41       False  \n",
              "42       False  \n",
              "43       False  \n",
              "44       False  \n",
              "45       False  \n",
              "46       False  \n",
              "47       False  \n",
              "48       False  \n",
              "49       False  \n",
              "50       False  \n",
              "51       False  \n",
              "52       False  "
            ]
          },
          "metadata": {
            "tags": []
          }
        }
      ]
    },
    {
      "cell_type": "code",
      "metadata": {
        "id": "EnP49Q3IrTwn",
        "colab_type": "code",
        "outputId": "65f76e69-5dde-4de6-ff96-311bcc216fdd",
        "colab": {
          "base_uri": "https://localhost:8080/",
          "height": 175
        }
      },
      "source": [
        "summary = summarize_df(df_raw)\n",
        "display_allrows(summary)"
      ],
      "execution_count": 45,
      "outputs": [
        {
          "output_type": "display_data",
          "data": {
            "text/html": [
              "<div>\n",
              "<style scoped>\n",
              "    .dataframe tbody tr th:only-of-type {\n",
              "        vertical-align: middle;\n",
              "    }\n",
              "\n",
              "    .dataframe tbody tr th {\n",
              "        vertical-align: top;\n",
              "    }\n",
              "\n",
              "    .dataframe thead th {\n",
              "        text-align: right;\n",
              "    }\n",
              "</style>\n",
              "<table border=\"1\" class=\"dataframe\">\n",
              "  <thead>\n",
              "    <tr style=\"text-align: right;\">\n",
              "      <th></th>\n",
              "      <th>type</th>\n",
              "      <th>ncols</th>\n",
              "      <th>ncols_w_nans</th>\n",
              "      <th>n_nans</th>\n",
              "      <th>n_total</th>\n",
              "      <th>nan_frac</th>\n",
              "    </tr>\n",
              "  </thead>\n",
              "  <tbody>\n",
              "    <tr>\n",
              "      <th>0</th>\n",
              "      <td>datetime64[ns]</td>\n",
              "      <td>1</td>\n",
              "      <td>0</td>\n",
              "      <td>0</td>\n",
              "      <td>401125</td>\n",
              "      <td>0.00</td>\n",
              "    </tr>\n",
              "    <tr>\n",
              "      <th>1</th>\n",
              "      <td>float64</td>\n",
              "      <td>2</td>\n",
              "      <td>0</td>\n",
              "      <td>0</td>\n",
              "      <td>802250</td>\n",
              "      <td>0.00</td>\n",
              "    </tr>\n",
              "    <tr>\n",
              "      <th>2</th>\n",
              "      <td>int64</td>\n",
              "      <td>6</td>\n",
              "      <td>0</td>\n",
              "      <td>0</td>\n",
              "      <td>2406750</td>\n",
              "      <td>0.00</td>\n",
              "    </tr>\n",
              "    <tr>\n",
              "      <th>3</th>\n",
              "      <td>object</td>\n",
              "      <td>44</td>\n",
              "      <td>22</td>\n",
              "      <td>6002766</td>\n",
              "      <td>17649500</td>\n",
              "      <td>0.34</td>\n",
              "    </tr>\n",
              "  </tbody>\n",
              "</table>\n",
              "</div>"
            ],
            "text/plain": [
              "             type  ncols  ncols_w_nans   n_nans   n_total  nan_frac\n",
              "0  datetime64[ns]      1             0        0    401125      0.00\n",
              "1         float64      2             0        0    802250      0.00\n",
              "2           int64      6             0        0   2406750      0.00\n",
              "3          object     44            22  6002766  17649500      0.34"
            ]
          },
          "metadata": {
            "tags": []
          }
        }
      ]
    },
    {
      "cell_type": "markdown",
      "metadata": {
        "id": "Xowpg74RrTwv",
        "colab_type": "text"
      },
      "source": [
        "### Add log price"
      ]
    },
    {
      "cell_type": "code",
      "metadata": {
        "id": "EAJ17gncrTwz",
        "colab_type": "code",
        "colab": {}
      },
      "source": [
        "df_proc = df_raw.copy(deep=True)\n",
        "if 'SalePrice' in df_proc.columns:\n",
        "    df_proc['LogSalePrice'] = np.log(df_proc['SalePrice'])\n",
        "    df_proc.drop(columns=['SalePrice'], inplace=True)"
      ],
      "execution_count": 0,
      "outputs": []
    },
    {
      "cell_type": "code",
      "metadata": {
        "id": "8JgNPr5-rTxD",
        "colab_type": "code",
        "outputId": "76c9547a-5e09-40e6-81f7-2ec659e19826",
        "colab": {
          "base_uri": "https://localhost:8080/",
          "height": 256
        }
      },
      "source": [
        "df_proc.head()"
      ],
      "execution_count": 47,
      "outputs": [
        {
          "output_type": "execute_result",
          "data": {
            "text/html": [
              "<div>\n",
              "<style scoped>\n",
              "    .dataframe tbody tr th:only-of-type {\n",
              "        vertical-align: middle;\n",
              "    }\n",
              "\n",
              "    .dataframe tbody tr th {\n",
              "        vertical-align: top;\n",
              "    }\n",
              "\n",
              "    .dataframe thead th {\n",
              "        text-align: right;\n",
              "    }\n",
              "</style>\n",
              "<table border=\"1\" class=\"dataframe\">\n",
              "  <thead>\n",
              "    <tr style=\"text-align: right;\">\n",
              "      <th></th>\n",
              "      <th>SalesID</th>\n",
              "      <th>MachineID</th>\n",
              "      <th>ModelID</th>\n",
              "      <th>datasource</th>\n",
              "      <th>auctioneerID</th>\n",
              "      <th>...</th>\n",
              "      <th>Blade_Type</th>\n",
              "      <th>Travel_Controls</th>\n",
              "      <th>Differential_Type</th>\n",
              "      <th>Steering_Controls</th>\n",
              "      <th>LogSalePrice</th>\n",
              "    </tr>\n",
              "  </thead>\n",
              "  <tbody>\n",
              "    <tr>\n",
              "      <th>0</th>\n",
              "      <td>1139246</td>\n",
              "      <td>999089</td>\n",
              "      <td>3157</td>\n",
              "      <td>121</td>\n",
              "      <td>3.0</td>\n",
              "      <td>...</td>\n",
              "      <td>NaN</td>\n",
              "      <td>NaN</td>\n",
              "      <td>Standard</td>\n",
              "      <td>Conventional</td>\n",
              "      <td>11.097410</td>\n",
              "    </tr>\n",
              "    <tr>\n",
              "      <th>1</th>\n",
              "      <td>1139248</td>\n",
              "      <td>117657</td>\n",
              "      <td>77</td>\n",
              "      <td>121</td>\n",
              "      <td>3.0</td>\n",
              "      <td>...</td>\n",
              "      <td>NaN</td>\n",
              "      <td>NaN</td>\n",
              "      <td>Standard</td>\n",
              "      <td>Conventional</td>\n",
              "      <td>10.950807</td>\n",
              "    </tr>\n",
              "    <tr>\n",
              "      <th>2</th>\n",
              "      <td>1139249</td>\n",
              "      <td>434808</td>\n",
              "      <td>7009</td>\n",
              "      <td>121</td>\n",
              "      <td>3.0</td>\n",
              "      <td>...</td>\n",
              "      <td>NaN</td>\n",
              "      <td>NaN</td>\n",
              "      <td>NaN</td>\n",
              "      <td>NaN</td>\n",
              "      <td>9.210340</td>\n",
              "    </tr>\n",
              "    <tr>\n",
              "      <th>3</th>\n",
              "      <td>1139251</td>\n",
              "      <td>1026470</td>\n",
              "      <td>332</td>\n",
              "      <td>121</td>\n",
              "      <td>3.0</td>\n",
              "      <td>...</td>\n",
              "      <td>NaN</td>\n",
              "      <td>NaN</td>\n",
              "      <td>NaN</td>\n",
              "      <td>NaN</td>\n",
              "      <td>10.558414</td>\n",
              "    </tr>\n",
              "    <tr>\n",
              "      <th>4</th>\n",
              "      <td>1139253</td>\n",
              "      <td>1057373</td>\n",
              "      <td>17311</td>\n",
              "      <td>121</td>\n",
              "      <td>3.0</td>\n",
              "      <td>...</td>\n",
              "      <td>NaN</td>\n",
              "      <td>NaN</td>\n",
              "      <td>NaN</td>\n",
              "      <td>NaN</td>\n",
              "      <td>9.305651</td>\n",
              "    </tr>\n",
              "  </tbody>\n",
              "</table>\n",
              "<p>5 rows × 53 columns</p>\n",
              "</div>"
            ],
            "text/plain": [
              "   SalesID  MachineID  ModelID  datasource  auctioneerID  ...  Blade_Type  \\\n",
              "0  1139246     999089     3157         121           3.0  ...         NaN   \n",
              "1  1139248     117657       77         121           3.0  ...         NaN   \n",
              "2  1139249     434808     7009         121           3.0  ...         NaN   \n",
              "3  1139251    1026470      332         121           3.0  ...         NaN   \n",
              "4  1139253    1057373    17311         121           3.0  ...         NaN   \n",
              "\n",
              "   Travel_Controls Differential_Type Steering_Controls LogSalePrice  \n",
              "0              NaN          Standard      Conventional    11.097410  \n",
              "1              NaN          Standard      Conventional    10.950807  \n",
              "2              NaN               NaN               NaN     9.210340  \n",
              "3              NaN               NaN               NaN    10.558414  \n",
              "4              NaN               NaN               NaN     9.305651  \n",
              "\n",
              "[5 rows x 53 columns]"
            ]
          },
          "metadata": {
            "tags": []
          },
          "execution_count": 47
        }
      ]
    },
    {
      "cell_type": "markdown",
      "metadata": {
        "id": "vsSalC4zrTxJ",
        "colab_type": "text"
      },
      "source": [
        "### Extract date properties\n",
        "See [Attributes of Pandas Timestamp](https://pandas.pydata.org/pandas-docs/stable/reference/api/pandas.Timestamp.html)"
      ]
    },
    {
      "cell_type": "code",
      "metadata": {
        "id": "r3Mil6MKrTxK",
        "colab_type": "code",
        "colab": {}
      },
      "source": [
        "if 'saledate' in df_proc.columns:\n",
        "    df_proc = add_datefields(df_proc, 'saledate', drop_original=True)"
      ],
      "execution_count": 0,
      "outputs": []
    },
    {
      "cell_type": "code",
      "metadata": {
        "id": "mWALgqjjrTxQ",
        "colab_type": "code",
        "outputId": "b2e51b2c-64a2-4b17-d1af-defbbb000b08",
        "colab": {
          "base_uri": "https://localhost:8080/",
          "height": 256
        }
      },
      "source": [
        "df_proc.head()"
      ],
      "execution_count": 49,
      "outputs": [
        {
          "output_type": "execute_result",
          "data": {
            "text/html": [
              "<div>\n",
              "<style scoped>\n",
              "    .dataframe tbody tr th:only-of-type {\n",
              "        vertical-align: middle;\n",
              "    }\n",
              "\n",
              "    .dataframe tbody tr th {\n",
              "        vertical-align: top;\n",
              "    }\n",
              "\n",
              "    .dataframe thead th {\n",
              "        text-align: right;\n",
              "    }\n",
              "</style>\n",
              "<table border=\"1\" class=\"dataframe\">\n",
              "  <thead>\n",
              "    <tr style=\"text-align: right;\">\n",
              "      <th></th>\n",
              "      <th>SalesID</th>\n",
              "      <th>MachineID</th>\n",
              "      <th>ModelID</th>\n",
              "      <th>datasource</th>\n",
              "      <th>auctioneerID</th>\n",
              "      <th>...</th>\n",
              "      <th>saledate_is_month_start</th>\n",
              "      <th>saledate_is_quarter_end</th>\n",
              "      <th>saledate_is_quarter_start</th>\n",
              "      <th>saledate_quarter</th>\n",
              "      <th>saledate_week</th>\n",
              "    </tr>\n",
              "  </thead>\n",
              "  <tbody>\n",
              "    <tr>\n",
              "      <th>0</th>\n",
              "      <td>1139246</td>\n",
              "      <td>999089</td>\n",
              "      <td>3157</td>\n",
              "      <td>121</td>\n",
              "      <td>3.0</td>\n",
              "      <td>...</td>\n",
              "      <td>False</td>\n",
              "      <td>False</td>\n",
              "      <td>False</td>\n",
              "      <td>4</td>\n",
              "      <td>46</td>\n",
              "    </tr>\n",
              "    <tr>\n",
              "      <th>1</th>\n",
              "      <td>1139248</td>\n",
              "      <td>117657</td>\n",
              "      <td>77</td>\n",
              "      <td>121</td>\n",
              "      <td>3.0</td>\n",
              "      <td>...</td>\n",
              "      <td>False</td>\n",
              "      <td>False</td>\n",
              "      <td>False</td>\n",
              "      <td>1</td>\n",
              "      <td>13</td>\n",
              "    </tr>\n",
              "    <tr>\n",
              "      <th>2</th>\n",
              "      <td>1139249</td>\n",
              "      <td>434808</td>\n",
              "      <td>7009</td>\n",
              "      <td>121</td>\n",
              "      <td>3.0</td>\n",
              "      <td>...</td>\n",
              "      <td>False</td>\n",
              "      <td>False</td>\n",
              "      <td>False</td>\n",
              "      <td>1</td>\n",
              "      <td>9</td>\n",
              "    </tr>\n",
              "    <tr>\n",
              "      <th>3</th>\n",
              "      <td>1139251</td>\n",
              "      <td>1026470</td>\n",
              "      <td>332</td>\n",
              "      <td>121</td>\n",
              "      <td>3.0</td>\n",
              "      <td>...</td>\n",
              "      <td>False</td>\n",
              "      <td>False</td>\n",
              "      <td>False</td>\n",
              "      <td>2</td>\n",
              "      <td>20</td>\n",
              "    </tr>\n",
              "    <tr>\n",
              "      <th>4</th>\n",
              "      <td>1139253</td>\n",
              "      <td>1057373</td>\n",
              "      <td>17311</td>\n",
              "      <td>121</td>\n",
              "      <td>3.0</td>\n",
              "      <td>...</td>\n",
              "      <td>False</td>\n",
              "      <td>False</td>\n",
              "      <td>False</td>\n",
              "      <td>3</td>\n",
              "      <td>30</td>\n",
              "    </tr>\n",
              "  </tbody>\n",
              "</table>\n",
              "<p>5 rows × 60 columns</p>\n",
              "</div>"
            ],
            "text/plain": [
              "   SalesID  MachineID  ModelID  datasource  auctioneerID  ...  \\\n",
              "0  1139246     999089     3157         121           3.0  ...   \n",
              "1  1139248     117657       77         121           3.0  ...   \n",
              "2  1139249     434808     7009         121           3.0  ...   \n",
              "3  1139251    1026470      332         121           3.0  ...   \n",
              "4  1139253    1057373    17311         121           3.0  ...   \n",
              "\n",
              "   saledate_is_month_start  saledate_is_quarter_end saledate_is_quarter_start  \\\n",
              "0                    False                    False                     False   \n",
              "1                    False                    False                     False   \n",
              "2                    False                    False                     False   \n",
              "3                    False                    False                     False   \n",
              "4                    False                    False                     False   \n",
              "\n",
              "  saledate_quarter saledate_week  \n",
              "0                4            46  \n",
              "1                1            13  \n",
              "2                1             9  \n",
              "3                2            20  \n",
              "4                3            30  \n",
              "\n",
              "[5 rows x 60 columns]"
            ]
          },
          "metadata": {
            "tags": []
          },
          "execution_count": 49
        }
      ]
    },
    {
      "cell_type": "markdown",
      "metadata": {
        "id": "04kPE4VArTxX",
        "colab_type": "text"
      },
      "source": [
        "### Add NaN indicator column\n",
        "Here we add a columns indicating whether the original column contained a NaN"
      ]
    },
    {
      "cell_type": "code",
      "metadata": {
        "id": "aKSS7MR-rTxY",
        "colab_type": "code",
        "outputId": "88b1b96f-38df-4941-96b7-03e6472dd32e",
        "colab": {
          "base_uri": "https://localhost:8080/",
          "height": 256
        }
      },
      "source": [
        "df_proc = add_nan_columns(df_proc)\n",
        "df_proc.head()"
      ],
      "execution_count": 50,
      "outputs": [
        {
          "output_type": "execute_result",
          "data": {
            "text/html": [
              "<div>\n",
              "<style scoped>\n",
              "    .dataframe tbody tr th:only-of-type {\n",
              "        vertical-align: middle;\n",
              "    }\n",
              "\n",
              "    .dataframe tbody tr th {\n",
              "        vertical-align: top;\n",
              "    }\n",
              "\n",
              "    .dataframe thead th {\n",
              "        text-align: right;\n",
              "    }\n",
              "</style>\n",
              "<table border=\"1\" class=\"dataframe\">\n",
              "  <thead>\n",
              "    <tr style=\"text-align: right;\">\n",
              "      <th></th>\n",
              "      <th>SalesID</th>\n",
              "      <th>MachineID</th>\n",
              "      <th>ModelID</th>\n",
              "      <th>datasource</th>\n",
              "      <th>auctioneerID</th>\n",
              "      <th>...</th>\n",
              "      <th>Backhoe_Mounting_isnull</th>\n",
              "      <th>Blade_Type_isnull</th>\n",
              "      <th>Travel_Controls_isnull</th>\n",
              "      <th>Differential_Type_isnull</th>\n",
              "      <th>Steering_Controls_isnull</th>\n",
              "    </tr>\n",
              "  </thead>\n",
              "  <tbody>\n",
              "    <tr>\n",
              "      <th>0</th>\n",
              "      <td>1139246</td>\n",
              "      <td>999089</td>\n",
              "      <td>3157</td>\n",
              "      <td>121</td>\n",
              "      <td>3.0</td>\n",
              "      <td>...</td>\n",
              "      <td>True</td>\n",
              "      <td>True</td>\n",
              "      <td>True</td>\n",
              "      <td>False</td>\n",
              "      <td>False</td>\n",
              "    </tr>\n",
              "    <tr>\n",
              "      <th>1</th>\n",
              "      <td>1139248</td>\n",
              "      <td>117657</td>\n",
              "      <td>77</td>\n",
              "      <td>121</td>\n",
              "      <td>3.0</td>\n",
              "      <td>...</td>\n",
              "      <td>True</td>\n",
              "      <td>True</td>\n",
              "      <td>True</td>\n",
              "      <td>False</td>\n",
              "      <td>False</td>\n",
              "    </tr>\n",
              "    <tr>\n",
              "      <th>2</th>\n",
              "      <td>1139249</td>\n",
              "      <td>434808</td>\n",
              "      <td>7009</td>\n",
              "      <td>121</td>\n",
              "      <td>3.0</td>\n",
              "      <td>...</td>\n",
              "      <td>True</td>\n",
              "      <td>True</td>\n",
              "      <td>True</td>\n",
              "      <td>True</td>\n",
              "      <td>True</td>\n",
              "    </tr>\n",
              "    <tr>\n",
              "      <th>3</th>\n",
              "      <td>1139251</td>\n",
              "      <td>1026470</td>\n",
              "      <td>332</td>\n",
              "      <td>121</td>\n",
              "      <td>3.0</td>\n",
              "      <td>...</td>\n",
              "      <td>True</td>\n",
              "      <td>True</td>\n",
              "      <td>True</td>\n",
              "      <td>True</td>\n",
              "      <td>True</td>\n",
              "    </tr>\n",
              "    <tr>\n",
              "      <th>4</th>\n",
              "      <td>1139253</td>\n",
              "      <td>1057373</td>\n",
              "      <td>17311</td>\n",
              "      <td>121</td>\n",
              "      <td>3.0</td>\n",
              "      <td>...</td>\n",
              "      <td>True</td>\n",
              "      <td>True</td>\n",
              "      <td>True</td>\n",
              "      <td>True</td>\n",
              "      <td>True</td>\n",
              "    </tr>\n",
              "  </tbody>\n",
              "</table>\n",
              "<p>5 rows × 100 columns</p>\n",
              "</div>"
            ],
            "text/plain": [
              "   SalesID  MachineID  ModelID  datasource  auctioneerID  ...  \\\n",
              "0  1139246     999089     3157         121           3.0  ...   \n",
              "1  1139248     117657       77         121           3.0  ...   \n",
              "2  1139249     434808     7009         121           3.0  ...   \n",
              "3  1139251    1026470      332         121           3.0  ...   \n",
              "4  1139253    1057373    17311         121           3.0  ...   \n",
              "\n",
              "   Backhoe_Mounting_isnull  Blade_Type_isnull Travel_Controls_isnull  \\\n",
              "0                     True               True                   True   \n",
              "1                     True               True                   True   \n",
              "2                     True               True                   True   \n",
              "3                     True               True                   True   \n",
              "4                     True               True                   True   \n",
              "\n",
              "  Differential_Type_isnull Steering_Controls_isnull  \n",
              "0                    False                    False  \n",
              "1                    False                    False  \n",
              "2                     True                     True  \n",
              "3                     True                     True  \n",
              "4                     True                     True  \n",
              "\n",
              "[5 rows x 100 columns]"
            ]
          },
          "metadata": {
            "tags": []
          },
          "execution_count": 50
        }
      ]
    },
    {
      "cell_type": "markdown",
      "metadata": {
        "id": "ZvcYixRxrTxd",
        "colab_type": "text"
      },
      "source": [
        "### Handle numerical types containing NaN"
      ]
    },
    {
      "cell_type": "code",
      "metadata": {
        "id": "UCEBxqwPrTxe",
        "colab_type": "code",
        "outputId": "14b3a5f9-63d3-4307-9883-ca06df50fd63",
        "colab": {
          "base_uri": "https://localhost:8080/",
          "height": 112
        }
      },
      "source": [
        "stats = numeric_nans(df_raw)\n",
        "stats"
      ],
      "execution_count": 51,
      "outputs": [
        {
          "output_type": "execute_result",
          "data": {
            "text/html": [
              "<div>\n",
              "<style scoped>\n",
              "    .dataframe tbody tr th:only-of-type {\n",
              "        vertical-align: middle;\n",
              "    }\n",
              "\n",
              "    .dataframe tbody tr th {\n",
              "        vertical-align: top;\n",
              "    }\n",
              "\n",
              "    .dataframe thead th {\n",
              "        text-align: right;\n",
              "    }\n",
              "</style>\n",
              "<table border=\"1\" class=\"dataframe\">\n",
              "  <thead>\n",
              "    <tr style=\"text-align: right;\">\n",
              "      <th></th>\n",
              "      <th>column</th>\n",
              "      <th>null_fraction</th>\n",
              "      <th>nulls</th>\n",
              "      <th>type</th>\n",
              "      <th>is_numeric</th>\n",
              "      <th>num_uniques</th>\n",
              "      <th>uniques</th>\n",
              "    </tr>\n",
              "  </thead>\n",
              "  <tbody>\n",
              "    <tr>\n",
              "      <th>0</th>\n",
              "      <td>auctioneerID</td>\n",
              "      <td>0.050</td>\n",
              "      <td>20136</td>\n",
              "      <td>float64</td>\n",
              "      <td>True</td>\n",
              "      <td>30</td>\n",
              "      <td>[0.0, 1.0, 2.0, 3.0, 4.0, 5.0, 6.0, 7.0, 8.0, ...</td>\n",
              "    </tr>\n",
              "    <tr>\n",
              "      <th>1</th>\n",
              "      <td>MachineHoursCurrentMeter</td>\n",
              "      <td>0.644</td>\n",
              "      <td>258360</td>\n",
              "      <td>float64</td>\n",
              "      <td>True</td>\n",
              "      <td>15152</td>\n",
              "      <td>[0.0, 2.0, 3.0, 4.0, 5.0, 6.0, 7.0, 8.0, 9.0, ...</td>\n",
              "    </tr>\n",
              "  </tbody>\n",
              "</table>\n",
              "</div>"
            ],
            "text/plain": [
              "                     column  null_fraction   nulls     type  is_numeric  \\\n",
              "0              auctioneerID          0.050   20136  float64        True   \n",
              "1  MachineHoursCurrentMeter          0.644  258360  float64        True   \n",
              "\n",
              "   num_uniques                                            uniques  \n",
              "0           30  [0.0, 1.0, 2.0, 3.0, 4.0, 5.0, 6.0, 7.0, 8.0, ...  \n",
              "1        15152  [0.0, 2.0, 3.0, 4.0, 5.0, 6.0, 7.0, 8.0, 9.0, ...  "
            ]
          },
          "metadata": {
            "tags": []
          },
          "execution_count": 51
        }
      ]
    },
    {
      "cell_type": "markdown",
      "metadata": {
        "id": "YQdDqWkM1P4G",
        "colab_type": "text"
      },
      "source": [
        "It seems that an appropriate value for unknown `auctioneerID` would be the _next_ value, whereas we will make a reasonable  choice and substitute unknown`MachineHoursCurrentMeter` with the median."
      ]
    },
    {
      "cell_type": "code",
      "metadata": {
        "id": "xvIAxxJ0rTxi",
        "colab_type": "code",
        "colab": {}
      },
      "source": [
        "df_proc['auctioneerID'] = df_proc['auctioneerID'].fillna(\n",
        "    df_proc['auctioneerID'].max() + 1\n",
        ")\n",
        "\n",
        "df_proc['MachineHoursCurrentMeter'] = df_proc['MachineHoursCurrentMeter'].fillna(\n",
        "    df_proc['MachineHoursCurrentMeter'].median()\n",
        ")"
      ],
      "execution_count": 0,
      "outputs": []
    },
    {
      "cell_type": "code",
      "metadata": {
        "id": "Zy7c8xqhrTxn",
        "colab_type": "code",
        "outputId": "f61799ac-71d7-4659-874f-724af80dd756",
        "colab": {
          "base_uri": "https://localhost:8080/",
          "height": 49
        }
      },
      "source": [
        "numeric_nans(df_proc)"
      ],
      "execution_count": 53,
      "outputs": [
        {
          "output_type": "execute_result",
          "data": {
            "text/html": [
              "<div>\n",
              "<style scoped>\n",
              "    .dataframe tbody tr th:only-of-type {\n",
              "        vertical-align: middle;\n",
              "    }\n",
              "\n",
              "    .dataframe tbody tr th {\n",
              "        vertical-align: top;\n",
              "    }\n",
              "\n",
              "    .dataframe thead th {\n",
              "        text-align: right;\n",
              "    }\n",
              "</style>\n",
              "<table border=\"1\" class=\"dataframe\">\n",
              "  <thead>\n",
              "    <tr style=\"text-align: right;\">\n",
              "      <th></th>\n",
              "      <th>column</th>\n",
              "      <th>null_fraction</th>\n",
              "      <th>nulls</th>\n",
              "      <th>type</th>\n",
              "      <th>is_numeric</th>\n",
              "      <th>num_uniques</th>\n",
              "      <th>uniques</th>\n",
              "    </tr>\n",
              "  </thead>\n",
              "  <tbody>\n",
              "  </tbody>\n",
              "</table>\n",
              "</div>"
            ],
            "text/plain": [
              "Empty DataFrame\n",
              "Columns: [column, null_fraction, nulls, type, is_numeric, num_uniques, uniques]\n",
              "Index: []"
            ]
          },
          "metadata": {
            "tags": []
          },
          "execution_count": 53
        }
      ]
    },
    {
      "cell_type": "markdown",
      "metadata": {
        "id": "-qJx0IcirTxs",
        "colab_type": "text"
      },
      "source": [
        "### Add categories\n",
        "- http://benalexkeen.com/mapping-categorical-data-in-pandas/\n",
        "- https://pandas.pydata.org/pandas-docs/stable/user_guide/categorical.html"
      ]
    },
    {
      "cell_type": "code",
      "metadata": {
        "id": "bCuD57FJrTxt",
        "colab_type": "code",
        "colab": {}
      },
      "source": [
        "(df_cats, catcodes) = categorize_df(df_proc)"
      ],
      "execution_count": 0,
      "outputs": []
    },
    {
      "cell_type": "code",
      "metadata": {
        "id": "upoGbkfdrTxz",
        "colab_type": "code",
        "outputId": "311ce09c-dfec-487d-b9ed-e8ea5f4571c4",
        "colab": {
          "base_uri": "https://localhost:8080/",
          "height": 256
        }
      },
      "source": [
        "df_cats.head()"
      ],
      "execution_count": 55,
      "outputs": [
        {
          "output_type": "execute_result",
          "data": {
            "text/html": [
              "<div>\n",
              "<style scoped>\n",
              "    .dataframe tbody tr th:only-of-type {\n",
              "        vertical-align: middle;\n",
              "    }\n",
              "\n",
              "    .dataframe tbody tr th {\n",
              "        vertical-align: top;\n",
              "    }\n",
              "\n",
              "    .dataframe thead th {\n",
              "        text-align: right;\n",
              "    }\n",
              "</style>\n",
              "<table border=\"1\" class=\"dataframe\">\n",
              "  <thead>\n",
              "    <tr style=\"text-align: right;\">\n",
              "      <th></th>\n",
              "      <th>SalesID</th>\n",
              "      <th>MachineID</th>\n",
              "      <th>ModelID</th>\n",
              "      <th>datasource</th>\n",
              "      <th>auctioneerID</th>\n",
              "      <th>...</th>\n",
              "      <th>Backhoe_Mounting_category</th>\n",
              "      <th>Blade_Type_category</th>\n",
              "      <th>Travel_Controls_category</th>\n",
              "      <th>Differential_Type_category</th>\n",
              "      <th>Steering_Controls_category</th>\n",
              "    </tr>\n",
              "  </thead>\n",
              "  <tbody>\n",
              "    <tr>\n",
              "      <th>0</th>\n",
              "      <td>1139246</td>\n",
              "      <td>999089</td>\n",
              "      <td>3157</td>\n",
              "      <td>121</td>\n",
              "      <td>3.0</td>\n",
              "      <td>...</td>\n",
              "      <td>0</td>\n",
              "      <td>0</td>\n",
              "      <td>0</td>\n",
              "      <td>4</td>\n",
              "      <td>2</td>\n",
              "    </tr>\n",
              "    <tr>\n",
              "      <th>1</th>\n",
              "      <td>1139248</td>\n",
              "      <td>117657</td>\n",
              "      <td>77</td>\n",
              "      <td>121</td>\n",
              "      <td>3.0</td>\n",
              "      <td>...</td>\n",
              "      <td>0</td>\n",
              "      <td>0</td>\n",
              "      <td>0</td>\n",
              "      <td>4</td>\n",
              "      <td>2</td>\n",
              "    </tr>\n",
              "    <tr>\n",
              "      <th>2</th>\n",
              "      <td>1139249</td>\n",
              "      <td>434808</td>\n",
              "      <td>7009</td>\n",
              "      <td>121</td>\n",
              "      <td>3.0</td>\n",
              "      <td>...</td>\n",
              "      <td>0</td>\n",
              "      <td>0</td>\n",
              "      <td>0</td>\n",
              "      <td>0</td>\n",
              "      <td>0</td>\n",
              "    </tr>\n",
              "    <tr>\n",
              "      <th>3</th>\n",
              "      <td>1139251</td>\n",
              "      <td>1026470</td>\n",
              "      <td>332</td>\n",
              "      <td>121</td>\n",
              "      <td>3.0</td>\n",
              "      <td>...</td>\n",
              "      <td>0</td>\n",
              "      <td>0</td>\n",
              "      <td>0</td>\n",
              "      <td>0</td>\n",
              "      <td>0</td>\n",
              "    </tr>\n",
              "    <tr>\n",
              "      <th>4</th>\n",
              "      <td>1139253</td>\n",
              "      <td>1057373</td>\n",
              "      <td>17311</td>\n",
              "      <td>121</td>\n",
              "      <td>3.0</td>\n",
              "      <td>...</td>\n",
              "      <td>0</td>\n",
              "      <td>0</td>\n",
              "      <td>0</td>\n",
              "      <td>0</td>\n",
              "      <td>0</td>\n",
              "    </tr>\n",
              "  </tbody>\n",
              "</table>\n",
              "<p>5 rows × 100 columns</p>\n",
              "</div>"
            ],
            "text/plain": [
              "   SalesID  MachineID  ModelID  datasource  auctioneerID  ...  \\\n",
              "0  1139246     999089     3157         121           3.0  ...   \n",
              "1  1139248     117657       77         121           3.0  ...   \n",
              "2  1139249     434808     7009         121           3.0  ...   \n",
              "3  1139251    1026470      332         121           3.0  ...   \n",
              "4  1139253    1057373    17311         121           3.0  ...   \n",
              "\n",
              "   Backhoe_Mounting_category  Blade_Type_category  Travel_Controls_category  \\\n",
              "0                          0                    0                         0   \n",
              "1                          0                    0                         0   \n",
              "2                          0                    0                         0   \n",
              "3                          0                    0                         0   \n",
              "4                          0                    0                         0   \n",
              "\n",
              "   Differential_Type_category  Steering_Controls_category  \n",
              "0                           4                           2  \n",
              "1                           4                           2  \n",
              "2                           0                           0  \n",
              "3                           0                           0  \n",
              "4                           0                           0  \n",
              "\n",
              "[5 rows x 100 columns]"
            ]
          },
          "metadata": {
            "tags": []
          },
          "execution_count": 55
        }
      ]
    },
    {
      "cell_type": "code",
      "metadata": {
        "id": "dqnuQoHcrTx3",
        "colab_type": "code",
        "outputId": "a252163b-ed06-4f00-eb68-e48a351204a2",
        "colab": {
          "base_uri": "https://localhost:8080/",
          "height": 206
        }
      },
      "source": [
        "catcodes.head()"
      ],
      "execution_count": 56,
      "outputs": [
        {
          "output_type": "execute_result",
          "data": {
            "text/html": [
              "<div>\n",
              "<style scoped>\n",
              "    .dataframe tbody tr th:only-of-type {\n",
              "        vertical-align: middle;\n",
              "    }\n",
              "\n",
              "    .dataframe tbody tr th {\n",
              "        vertical-align: top;\n",
              "    }\n",
              "\n",
              "    .dataframe thead th {\n",
              "        text-align: right;\n",
              "    }\n",
              "</style>\n",
              "<table border=\"1\" class=\"dataframe\">\n",
              "  <thead>\n",
              "    <tr style=\"text-align: right;\">\n",
              "      <th></th>\n",
              "      <th>column</th>\n",
              "      <th>n_categories</th>\n",
              "      <th>categories</th>\n",
              "      <th>codes</th>\n",
              "    </tr>\n",
              "  </thead>\n",
              "  <tbody>\n",
              "    <tr>\n",
              "      <th>0</th>\n",
              "      <td>UsageBand</td>\n",
              "      <td>4</td>\n",
              "      <td>Index(['High', 'Low', 'Medium'], dtype='object')</td>\n",
              "      <td>0         2\n",
              "1         2\n",
              "2         1\n",
              "3         ...</td>\n",
              "    </tr>\n",
              "    <tr>\n",
              "      <th>1</th>\n",
              "      <td>fiModelDesc</td>\n",
              "      <td>4999</td>\n",
              "      <td>Index(['100C', '104', '1066', '1066E', '1080',...</td>\n",
              "      <td>0          950\n",
              "1         1725\n",
              "2          331\n",
              "3...</td>\n",
              "    </tr>\n",
              "    <tr>\n",
              "      <th>2</th>\n",
              "      <td>fiBaseModel</td>\n",
              "      <td>1950</td>\n",
              "      <td>Index(['10', '100', '104', '1066', '1080', '10...</td>\n",
              "      <td>0          296\n",
              "1          527\n",
              "2          110\n",
              "3...</td>\n",
              "    </tr>\n",
              "    <tr>\n",
              "      <th>3</th>\n",
              "      <td>fiSecondaryDesc</td>\n",
              "      <td>176</td>\n",
              "      <td>Index([' MSR SPIN ACE', '#NAME?', '-2', '-3', ...</td>\n",
              "      <td>0          41\n",
              "1          55\n",
              "2           0\n",
              "3   ...</td>\n",
              "    </tr>\n",
              "    <tr>\n",
              "      <th>4</th>\n",
              "      <td>fiModelSeries</td>\n",
              "      <td>123</td>\n",
              "      <td>Index([' III', '#NAME?', '-1', '-1.50E+01', '-...</td>\n",
              "      <td>0          0\n",
              "1         98\n",
              "2          0\n",
              "3      ...</td>\n",
              "    </tr>\n",
              "  </tbody>\n",
              "</table>\n",
              "</div>"
            ],
            "text/plain": [
              "            column  n_categories  \\\n",
              "0        UsageBand             4   \n",
              "1      fiModelDesc          4999   \n",
              "2      fiBaseModel          1950   \n",
              "3  fiSecondaryDesc           176   \n",
              "4    fiModelSeries           123   \n",
              "\n",
              "                                          categories  \\\n",
              "0   Index(['High', 'Low', 'Medium'], dtype='object')   \n",
              "1  Index(['100C', '104', '1066', '1066E', '1080',...   \n",
              "2  Index(['10', '100', '104', '1066', '1080', '10...   \n",
              "3  Index([' MSR SPIN ACE', '#NAME?', '-2', '-3', ...   \n",
              "4  Index([' III', '#NAME?', '-1', '-1.50E+01', '-...   \n",
              "\n",
              "                                               codes  \n",
              "0  0         2\n",
              "1         2\n",
              "2         1\n",
              "3         ...  \n",
              "1  0          950\n",
              "1         1725\n",
              "2          331\n",
              "3...  \n",
              "2  0          296\n",
              "1          527\n",
              "2          110\n",
              "3...  \n",
              "3  0          41\n",
              "1          55\n",
              "2           0\n",
              "3   ...  \n",
              "4  0          0\n",
              "1         98\n",
              "2          0\n",
              "3      ...  "
            ]
          },
          "metadata": {
            "tags": []
          },
          "execution_count": 56
        }
      ]
    },
    {
      "cell_type": "markdown",
      "metadata": {
        "id": "ZG-sBcvGrTx8",
        "colab_type": "text"
      },
      "source": [
        "### Inspect results of data processing"
      ]
    },
    {
      "cell_type": "code",
      "metadata": {
        "id": "vYcGuAWKrTx-",
        "colab_type": "code",
        "outputId": "ce063783-b539-4a07-e827-02492ab65cf7",
        "colab": {
          "base_uri": "https://localhost:8080/",
          "height": 175
        }
      },
      "source": [
        "summarize_df(df_raw)"
      ],
      "execution_count": 57,
      "outputs": [
        {
          "output_type": "execute_result",
          "data": {
            "text/html": [
              "<div>\n",
              "<style scoped>\n",
              "    .dataframe tbody tr th:only-of-type {\n",
              "        vertical-align: middle;\n",
              "    }\n",
              "\n",
              "    .dataframe tbody tr th {\n",
              "        vertical-align: top;\n",
              "    }\n",
              "\n",
              "    .dataframe thead th {\n",
              "        text-align: right;\n",
              "    }\n",
              "</style>\n",
              "<table border=\"1\" class=\"dataframe\">\n",
              "  <thead>\n",
              "    <tr style=\"text-align: right;\">\n",
              "      <th></th>\n",
              "      <th>type</th>\n",
              "      <th>ncols</th>\n",
              "      <th>ncols_w_nans</th>\n",
              "      <th>n_nans</th>\n",
              "      <th>n_total</th>\n",
              "      <th>nan_frac</th>\n",
              "    </tr>\n",
              "  </thead>\n",
              "  <tbody>\n",
              "    <tr>\n",
              "      <th>0</th>\n",
              "      <td>datetime64[ns]</td>\n",
              "      <td>1</td>\n",
              "      <td>0</td>\n",
              "      <td>0</td>\n",
              "      <td>401125</td>\n",
              "      <td>0.00</td>\n",
              "    </tr>\n",
              "    <tr>\n",
              "      <th>1</th>\n",
              "      <td>float64</td>\n",
              "      <td>2</td>\n",
              "      <td>0</td>\n",
              "      <td>0</td>\n",
              "      <td>802250</td>\n",
              "      <td>0.00</td>\n",
              "    </tr>\n",
              "    <tr>\n",
              "      <th>2</th>\n",
              "      <td>int64</td>\n",
              "      <td>6</td>\n",
              "      <td>0</td>\n",
              "      <td>0</td>\n",
              "      <td>2406750</td>\n",
              "      <td>0.00</td>\n",
              "    </tr>\n",
              "    <tr>\n",
              "      <th>3</th>\n",
              "      <td>object</td>\n",
              "      <td>44</td>\n",
              "      <td>22</td>\n",
              "      <td>6002766</td>\n",
              "      <td>17649500</td>\n",
              "      <td>0.34</td>\n",
              "    </tr>\n",
              "  </tbody>\n",
              "</table>\n",
              "</div>"
            ],
            "text/plain": [
              "             type  ncols  ncols_w_nans   n_nans   n_total  nan_frac\n",
              "0  datetime64[ns]      1             0        0    401125      0.00\n",
              "1         float64      2             0        0    802250      0.00\n",
              "2           int64      6             0        0   2406750      0.00\n",
              "3          object     44            22  6002766  17649500      0.34"
            ]
          },
          "metadata": {
            "tags": []
          },
          "execution_count": 57
        }
      ]
    },
    {
      "cell_type": "code",
      "metadata": {
        "id": "mpQB_k7xrTyE",
        "colab_type": "code",
        "outputId": "b63b1f2b-ae2f-4c7e-e1fc-33dd609d0a9f",
        "colab": {
          "base_uri": "https://localhost:8080/",
          "height": 206
        }
      },
      "source": [
        "summarize_df(df_cats)"
      ],
      "execution_count": 58,
      "outputs": [
        {
          "output_type": "execute_result",
          "data": {
            "text/html": [
              "<div>\n",
              "<style scoped>\n",
              "    .dataframe tbody tr th:only-of-type {\n",
              "        vertical-align: middle;\n",
              "    }\n",
              "\n",
              "    .dataframe tbody tr th {\n",
              "        vertical-align: top;\n",
              "    }\n",
              "\n",
              "    .dataframe thead th {\n",
              "        text-align: right;\n",
              "    }\n",
              "</style>\n",
              "<table border=\"1\" class=\"dataframe\">\n",
              "  <thead>\n",
              "    <tr style=\"text-align: right;\">\n",
              "      <th></th>\n",
              "      <th>type</th>\n",
              "      <th>ncols</th>\n",
              "      <th>ncols_w_nans</th>\n",
              "      <th>n_nans</th>\n",
              "      <th>n_total</th>\n",
              "      <th>nan_frac</th>\n",
              "    </tr>\n",
              "  </thead>\n",
              "  <tbody>\n",
              "    <tr>\n",
              "      <th>0</th>\n",
              "      <td>bool</td>\n",
              "      <td>44</td>\n",
              "      <td>0</td>\n",
              "      <td>0</td>\n",
              "      <td>17649500</td>\n",
              "      <td>0.0</td>\n",
              "    </tr>\n",
              "    <tr>\n",
              "      <th>1</th>\n",
              "      <td>float64</td>\n",
              "      <td>3</td>\n",
              "      <td>0</td>\n",
              "      <td>0</td>\n",
              "      <td>1203375</td>\n",
              "      <td>0.0</td>\n",
              "    </tr>\n",
              "    <tr>\n",
              "      <th>2</th>\n",
              "      <td>int16</td>\n",
              "      <td>4</td>\n",
              "      <td>0</td>\n",
              "      <td>0</td>\n",
              "      <td>1604500</td>\n",
              "      <td>0.0</td>\n",
              "    </tr>\n",
              "    <tr>\n",
              "      <th>3</th>\n",
              "      <td>int64</td>\n",
              "      <td>9</td>\n",
              "      <td>0</td>\n",
              "      <td>0</td>\n",
              "      <td>3610125</td>\n",
              "      <td>0.0</td>\n",
              "    </tr>\n",
              "    <tr>\n",
              "      <th>4</th>\n",
              "      <td>int8</td>\n",
              "      <td>40</td>\n",
              "      <td>0</td>\n",
              "      <td>0</td>\n",
              "      <td>16045000</td>\n",
              "      <td>0.0</td>\n",
              "    </tr>\n",
              "  </tbody>\n",
              "</table>\n",
              "</div>"
            ],
            "text/plain": [
              "      type  ncols  ncols_w_nans  n_nans   n_total  nan_frac\n",
              "0     bool     44             0       0  17649500       0.0\n",
              "1  float64      3             0       0   1203375       0.0\n",
              "2    int16      4             0       0   1604500       0.0\n",
              "3    int64      9             0       0   3610125       0.0\n",
              "4     int8     40             0       0  16045000       0.0"
            ]
          },
          "metadata": {
            "tags": []
          },
          "execution_count": 58
        }
      ]
    },
    {
      "cell_type": "markdown",
      "metadata": {
        "id": "-LsRvP5prTyI",
        "colab_type": "text"
      },
      "source": [
        "### Split into train and test\n",
        "Instead of doing it as in the course video where the first 12,000 rows are chosen as test or validation data, we will pick 12,000 rows at random"
      ]
    },
    {
      "cell_type": "code",
      "metadata": {
        "id": "ze5tohmarTyK",
        "colab_type": "code",
        "outputId": "933628af-12cf-4df2-b926-45297bca5b74",
        "colab": {
          "base_uri": "https://localhost:8080/",
          "height": 34
        }
      },
      "source": [
        "(nrows, ncols) = df_cats.shape\n",
        "print('Data rows: {}'.format(nrows))"
      ],
      "execution_count": 59,
      "outputs": [
        {
          "output_type": "stream",
          "text": [
            "Data rows: 401125\n"
          ],
          "name": "stdout"
        }
      ]
    },
    {
      "cell_type": "code",
      "metadata": {
        "id": "-9HdHPEurTyO",
        "colab_type": "code",
        "colab": {}
      },
      "source": [
        "n_test = 12000\n",
        "\n",
        "np.random.seed(seed=23)\n",
        "ind_all = df_cats.index.values\n",
        "ind_rand = np.random.permutation(ind_all)\n",
        "\n",
        "ind_test = np.sort(ind_rand[:n_test])\n",
        "ind_train = np.sort(ind_rand[n_test:])"
      ],
      "execution_count": 0,
      "outputs": []
    },
    {
      "cell_type": "code",
      "metadata": {
        "id": "xeHYdKPGrTyS",
        "colab_type": "code",
        "colab": {}
      },
      "source": [
        "def split_vars(df: pd.DataFrame, colname: str) -> (pd.DataFrame, np.array):\n",
        "    \"\"\" Return a copy of DataFrame df minus one column, and the column as values\n",
        "    \"\"\"\n",
        "    resdf = df.copy(deep=True)\n",
        "    y = np.array(resdf[colname].values)\n",
        "    resdf.drop(columns=[colname], inplace=True)\n",
        "    return resdf, y"
      ],
      "execution_count": 0,
      "outputs": []
    },
    {
      "cell_type": "code",
      "metadata": {
        "id": "acCto-UsrTyX",
        "colab_type": "code",
        "colab": {}
      },
      "source": [
        "df_train, y_train = split_vars(df_cats.iloc[ind_train], 'LogSalePrice')\n",
        "df_test, y_test = split_vars(df_cats.iloc[ind_test], 'LogSalePrice')"
      ],
      "execution_count": 0,
      "outputs": []
    },
    {
      "cell_type": "code",
      "metadata": {
        "id": "gDZFzn03rTyb",
        "colab_type": "code",
        "outputId": "396e0225-cfa7-4f97-8350-cb5747d0f82a",
        "colab": {
          "base_uri": "https://localhost:8080/",
          "height": 86
        }
      },
      "source": [
        "print('Training data:', df_train.shape)\n",
        "print('Training target:', y_train.shape)\n",
        "\n",
        "print('Test data:', df_test.shape)\n",
        "print('Test target:', y_test.shape)"
      ],
      "execution_count": 63,
      "outputs": [
        {
          "output_type": "stream",
          "text": [
            "Training data: (389125, 99)\n",
            "Training target: (389125,)\n",
            "Test data: (12000, 99)\n",
            "Test target: (12000,)\n"
          ],
          "name": "stdout"
        }
      ]
    },
    {
      "cell_type": "markdown",
      "metadata": {
        "id": "Buht1aqUrTye",
        "colab_type": "text"
      },
      "source": [
        "### Fit model"
      ]
    },
    {
      "cell_type": "code",
      "metadata": {
        "id": "nlMhdja6rTye",
        "colab_type": "code",
        "colab": {}
      },
      "source": [
        "model = RandomForestRegressor(n_jobs=-1)"
      ],
      "execution_count": 0,
      "outputs": []
    },
    {
      "cell_type": "code",
      "metadata": {
        "id": "kU55elkfrTyi",
        "colab_type": "code",
        "outputId": "b75d15be-8064-41aa-d883-c5a4c4b41675",
        "colab": {
          "base_uri": "https://localhost:8080/",
          "height": 173
        }
      },
      "source": [
        "%time model.fit(df_train, y_train)"
      ],
      "execution_count": 65,
      "outputs": [
        {
          "output_type": "stream",
          "text": [
            "CPU times: user 18min 3s, sys: 3.64 s, total: 18min 7s\n",
            "Wall time: 9min 7s\n"
          ],
          "name": "stdout"
        },
        {
          "output_type": "execute_result",
          "data": {
            "text/plain": [
              "RandomForestRegressor(bootstrap=True, ccp_alpha=0.0, criterion='mse',\n",
              "                      max_depth=None, max_features='auto', max_leaf_nodes=None,\n",
              "                      max_samples=None, min_impurity_decrease=0.0,\n",
              "                      min_impurity_split=None, min_samples_leaf=1,\n",
              "                      min_samples_split=2, min_weight_fraction_leaf=0.0,\n",
              "                      n_estimators=100, n_jobs=-1, oob_score=False,\n",
              "                      random_state=None, verbose=0, warm_start=False)"
            ]
          },
          "metadata": {
            "tags": []
          },
          "execution_count": 65
        }
      ]
    },
    {
      "cell_type": "code",
      "metadata": {
        "id": "WZLLcueCrTyr",
        "colab_type": "code",
        "colab": {}
      },
      "source": [
        "# At a first glance, it makes sense to save the model. However, this takes up a\n",
        "# whopping ~2.5 GB of disk space!\n",
        "#os.makedirs(MODELPATH, exist_ok=True)\n",
        "#joblib.dump(model, MODELPATH + 'bulldozers-ranforest.joblib')"
      ],
      "execution_count": 0,
      "outputs": []
    },
    {
      "cell_type": "code",
      "metadata": {
        "id": "pcVjtkihrTyo",
        "colab_type": "code",
        "colab": {}
      },
      "source": [
        "def rmse(x, y):\n",
        "    \"\"\" Root mean square error\n",
        "    \"\"\"\n",
        "    return np.sqrt(((x-y)**2).mean())"
      ],
      "execution_count": 0,
      "outputs": []
    },
    {
      "cell_type": "code",
      "metadata": {
        "id": "aziVNmp4rTyv",
        "colab_type": "code",
        "colab": {
          "base_uri": "https://localhost:8080/",
          "height": 34
        },
        "outputId": "82315702-db02-4c57-fa67-e44fa14725f2"
      },
      "source": [
        "# 0.0902435 in lecture\n",
        "rmse(model.predict(df_train), y_train)"
      ],
      "execution_count": 68,
      "outputs": [
        {
          "output_type": "execute_result",
          "data": {
            "text/plain": [
              "0.09495213705838801"
            ]
          },
          "metadata": {
            "tags": []
          },
          "execution_count": 68
        }
      ]
    },
    {
      "cell_type": "code",
      "metadata": {
        "id": "8kbhO7RHzFQa",
        "colab_type": "code",
        "colab": {
          "base_uri": "https://localhost:8080/",
          "height": 34
        },
        "outputId": "9cc60be5-52e4-4a2e-b0bc-86162c688e21"
      },
      "source": [
        "# 0.250792 in lecture\n",
        "rmse(model.predict(df_test), y_test)"
      ],
      "execution_count": 69,
      "outputs": [
        {
          "output_type": "execute_result",
          "data": {
            "text/plain": [
              "0.26036101606827916"
            ]
          },
          "metadata": {
            "tags": []
          },
          "execution_count": 69
        }
      ]
    },
    {
      "cell_type": "code",
      "metadata": {
        "id": "zd21o94dzNK7",
        "colab_type": "code",
        "colab": {
          "base_uri": "https://localhost:8080/",
          "height": 34
        },
        "outputId": "f902738a-c896-4f74-9f5e-1a03818d56a1"
      },
      "source": [
        "# 0.982957 in lecture\n",
        "model.score(df_train, y_train)"
      ],
      "execution_count": 70,
      "outputs": [
        {
          "output_type": "execute_result",
          "data": {
            "text/plain": [
              "0.9812593868688915"
            ]
          },
          "metadata": {
            "tags": []
          },
          "execution_count": 70
        }
      ]
    },
    {
      "cell_type": "code",
      "metadata": {
        "id": "b6LE_NqZzU-9",
        "colab_type": "code",
        "colab": {
          "base_uri": "https://localhost:8080/",
          "height": 34
        },
        "outputId": "8ac4bacb-b242-4a70-fb28-d35beaa55bd0"
      },
      "source": [
        "# 0.887675 in lecture\n",
        "model.score(df_test, y_test)"
      ],
      "execution_count": 71,
      "outputs": [
        {
          "output_type": "execute_result",
          "data": {
            "text/plain": [
              "0.859284897263788"
            ]
          },
          "metadata": {
            "tags": []
          },
          "execution_count": 71
        }
      ]
    },
    {
      "cell_type": "code",
      "metadata": {
        "id": "Mklq8JtqzZeX",
        "colab_type": "code",
        "colab": {}
      },
      "source": [
        ""
      ],
      "execution_count": 0,
      "outputs": []
    }
  ]
}
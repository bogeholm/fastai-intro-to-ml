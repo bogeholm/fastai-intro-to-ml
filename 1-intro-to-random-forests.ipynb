{
  "nbformat": 4,
  "nbformat_minor": 0,
  "metadata": {
    "kernelspec": {
      "display_name": "Python 3",
      "language": "python",
      "name": "python3"
    },
    "language_info": {
      "codemirror_mode": {
        "name": "ipython",
        "version": 3
      },
      "file_extension": ".py",
      "mimetype": "text/x-python",
      "name": "python",
      "nbconvert_exporter": "python",
      "pygments_lexer": "ipython3",
      "version": "3.7.3"
    },
    "colab": {
      "name": "1-intro-to-random-forests.ipynb",
      "provenance": [],
      "include_colab_link": true
    }
  },
  "cells": [
    {
      "cell_type": "markdown",
      "metadata": {
        "id": "view-in-github",
        "colab_type": "text"
      },
      "source": [
        "<a href=\"https://colab.research.google.com/github/bogeholm/fastai-intro-to-ml/blob/master/1-intro-to-random-forests.ipynb\" target=\"_parent\"><img src=\"https://colab.research.google.com/assets/colab-badge.svg\" alt=\"Open In Colab\"/></a>"
      ]
    },
    {
      "cell_type": "markdown",
      "metadata": {
        "id": "_4n88eEHrTvH",
        "colab_type": "text"
      },
      "source": [
        "### Course lecture\n",
        "[1 - Introduction to Random Forests](http://course18.fast.ai/lessonsml1/lesson1.html)\n",
        "\n",
        "[![Open In Colab](https://colab.research.google.com/assets/colab-badge.svg)](https://colab.research.google.com/github/bogeholm/fastai-intro-to-ml/blob/master/1-intro-to-random-forests.ipynb)"
      ]
    },
    {
      "cell_type": "markdown",
      "metadata": {
        "id": "_jSkH6HMrTvN",
        "colab_type": "text"
      },
      "source": [
        "### Install packages"
      ]
    },
    {
      "cell_type": "code",
      "metadata": {
        "id": "LaN2IIYprTvS",
        "colab_type": "code",
        "colab": {
          "base_uri": "https://localhost:8080/",
          "height": 211
        },
        "outputId": "a3e6d7bc-85fd-4c76-e452-1da38fc50b84"
      },
      "source": [
        "# Uncomment to install utilities: https://github.com/bogeholm/dataworks\n",
        "!pip install --upgrade git+git://github.com/bogeholm/dataworks.git"
      ],
      "execution_count": 1,
      "outputs": [
        {
          "output_type": "stream",
          "text": [
            "Collecting git+git://github.com/bogeholm/dataworks.git\n",
            "  Cloning git://github.com/bogeholm/dataworks.git to /tmp/pip-req-build-u3mk4snd\n",
            "  Running command git clone -q git://github.com/bogeholm/dataworks.git /tmp/pip-req-build-u3mk4snd\n",
            "Building wheels for collected packages: dataworks\n",
            "  Building wheel for dataworks (setup.py) ... \u001b[?25l\u001b[?25hdone\n",
            "  Created wheel for dataworks: filename=dataworks-0.0.0-cp36-none-any.whl size=4663 sha256=29c91802f264fa552cdc3a0ea9350fcc3ac97e006daff882116d4f603a882660\n",
            "  Stored in directory: /tmp/pip-ephem-wheel-cache-qgle3vkz/wheels/74/74/a2/16b6692a7774deeba5da754ecd69fb8e7ec312ee7c395edc87\n",
            "Successfully built dataworks\n",
            "Installing collected packages: dataworks\n",
            "Successfully installed dataworks-0.0.0\n"
          ],
          "name": "stdout"
        }
      ]
    },
    {
      "cell_type": "markdown",
      "metadata": {
        "id": "T3H1YUcJrTvh",
        "colab_type": "text"
      },
      "source": [
        "### Imports"
      ]
    },
    {
      "cell_type": "code",
      "metadata": {
        "id": "mN2O6bAGrTvj",
        "colab_type": "code",
        "colab": {}
      },
      "source": [
        "import joblib\n",
        "import numpy as np\n",
        "import os\n",
        "import pandas as pd\n",
        "import sys\n",
        "\n",
        "from dataworks.df_utils import *#inspect_df, summarize_df, add_datefields, add_nan_columns, numeric_nans, categorize_df\n",
        "\n",
        "from IPython.display import display\n",
        "from sklearn import metrics\n",
        "from sklearn.ensemble import RandomForestRegressor\n",
        "\n",
        "pd.set_option('display.max_rows', 10)\n",
        "pd.set_option('display.max_columns', 10)"
      ],
      "execution_count": 0,
      "outputs": []
    },
    {
      "cell_type": "markdown",
      "metadata": {
        "id": "Mn2NPp-PrTvs",
        "colab_type": "text"
      },
      "source": [
        "### Set data path"
      ]
    },
    {
      "cell_type": "code",
      "metadata": {
        "id": "mS71cJxzrTvw",
        "colab_type": "code",
        "colab": {}
      },
      "source": [
        "def get_basepath(basepath_local='', basepath_colab='drive/My Drive/'):\n",
        "    \"\"\" Return path to base directory depending on whether the\n",
        "        notebook is running in Google Colab or not\n",
        "    \"\"\"\n",
        "    if 'google.colab' in sys.modules:\n",
        "        # Notebook is running in Google Colab\n",
        "        from google.colab import drive\n",
        "        drive.mount('/content/drive')\n",
        "        return basepath_colab\n",
        "    else:\n",
        "        return basepath_local"
      ],
      "execution_count": 0,
      "outputs": []
    },
    {
      "cell_type": "code",
      "metadata": {
        "id": "cbs8r6rPrTv4",
        "colab_type": "code",
        "colab": {
          "base_uri": "https://localhost:8080/",
          "height": 86
        },
        "outputId": "7c46339b-c58a-4e01-b249-6d80d63de1de"
      },
      "source": [
        "DATAPATH = get_basepath() + 'data/bulldozers/'\n",
        "MODELPATH = get_basepath() + 'models/bulldozers/'\n",
        "print(f'DATAPATH: {DATAPATH}')\n",
        "print(f'MODELPATH: {MODELPATH}')"
      ],
      "execution_count": 40,
      "outputs": [
        {
          "output_type": "stream",
          "text": [
            "Drive already mounted at /content/drive; to attempt to forcibly remount, call drive.mount(\"/content/drive\", force_remount=True).\n",
            "Drive already mounted at /content/drive; to attempt to forcibly remount, call drive.mount(\"/content/drive\", force_remount=True).\n",
            "DATAPATH: drive/My Drive/data/bulldozers/\n",
            "MODELPATH: drive/My Drive/models/bulldozers/\n"
          ],
          "name": "stdout"
        }
      ]
    },
    {
      "cell_type": "code",
      "metadata": {
        "id": "JbK8oz75rTwC",
        "colab_type": "code",
        "colab": {}
      },
      "source": [
        "df_raw = pd.read_csv(f'{DATAPATH}Train.zip', low_memory=False, parse_dates=['saledate'])"
      ],
      "execution_count": 0,
      "outputs": []
    },
    {
      "cell_type": "markdown",
      "metadata": {
        "id": "k-fiCyDzrTwJ",
        "colab_type": "text"
      },
      "source": [
        "### Utility functions"
      ]
    },
    {
      "cell_type": "code",
      "metadata": {
        "id": "Z32pKvdgrTwM",
        "colab_type": "code",
        "colab": {}
      },
      "source": [
        "def display_allrows(df):\n",
        "    \"\"\" Override max rows and display them all\n",
        "    \"\"\"\n",
        "    with pd.option_context('display.max_rows', len(df)):\n",
        "            display(df)"
      ],
      "execution_count": 0,
      "outputs": []
    },
    {
      "cell_type": "markdown",
      "metadata": {
        "id": "z2J6FQPHrTwZ",
        "colab_type": "text"
      },
      "source": [
        "### Inspect the data"
      ]
    },
    {
      "cell_type": "code",
      "metadata": {
        "id": "3M1GBZ6frTwb",
        "colab_type": "code",
        "colab": {
          "base_uri": "https://localhost:8080/",
          "height": 256
        },
        "outputId": "c6355923-16d7-42be-9cc2-8634fb7c6d21"
      },
      "source": [
        "df_raw.head()"
      ],
      "execution_count": 7,
      "outputs": [
        {
          "output_type": "execute_result",
          "data": {
            "text/html": [
              "<div>\n",
              "<style scoped>\n",
              "    .dataframe tbody tr th:only-of-type {\n",
              "        vertical-align: middle;\n",
              "    }\n",
              "\n",
              "    .dataframe tbody tr th {\n",
              "        vertical-align: top;\n",
              "    }\n",
              "\n",
              "    .dataframe thead th {\n",
              "        text-align: right;\n",
              "    }\n",
              "</style>\n",
              "<table border=\"1\" class=\"dataframe\">\n",
              "  <thead>\n",
              "    <tr style=\"text-align: right;\">\n",
              "      <th></th>\n",
              "      <th>SalesID</th>\n",
              "      <th>SalePrice</th>\n",
              "      <th>MachineID</th>\n",
              "      <th>ModelID</th>\n",
              "      <th>datasource</th>\n",
              "      <th>...</th>\n",
              "      <th>Backhoe_Mounting</th>\n",
              "      <th>Blade_Type</th>\n",
              "      <th>Travel_Controls</th>\n",
              "      <th>Differential_Type</th>\n",
              "      <th>Steering_Controls</th>\n",
              "    </tr>\n",
              "  </thead>\n",
              "  <tbody>\n",
              "    <tr>\n",
              "      <th>0</th>\n",
              "      <td>1139246</td>\n",
              "      <td>66000</td>\n",
              "      <td>999089</td>\n",
              "      <td>3157</td>\n",
              "      <td>121</td>\n",
              "      <td>...</td>\n",
              "      <td>NaN</td>\n",
              "      <td>NaN</td>\n",
              "      <td>NaN</td>\n",
              "      <td>Standard</td>\n",
              "      <td>Conventional</td>\n",
              "    </tr>\n",
              "    <tr>\n",
              "      <th>1</th>\n",
              "      <td>1139248</td>\n",
              "      <td>57000</td>\n",
              "      <td>117657</td>\n",
              "      <td>77</td>\n",
              "      <td>121</td>\n",
              "      <td>...</td>\n",
              "      <td>NaN</td>\n",
              "      <td>NaN</td>\n",
              "      <td>NaN</td>\n",
              "      <td>Standard</td>\n",
              "      <td>Conventional</td>\n",
              "    </tr>\n",
              "    <tr>\n",
              "      <th>2</th>\n",
              "      <td>1139249</td>\n",
              "      <td>10000</td>\n",
              "      <td>434808</td>\n",
              "      <td>7009</td>\n",
              "      <td>121</td>\n",
              "      <td>...</td>\n",
              "      <td>NaN</td>\n",
              "      <td>NaN</td>\n",
              "      <td>NaN</td>\n",
              "      <td>NaN</td>\n",
              "      <td>NaN</td>\n",
              "    </tr>\n",
              "    <tr>\n",
              "      <th>3</th>\n",
              "      <td>1139251</td>\n",
              "      <td>38500</td>\n",
              "      <td>1026470</td>\n",
              "      <td>332</td>\n",
              "      <td>121</td>\n",
              "      <td>...</td>\n",
              "      <td>NaN</td>\n",
              "      <td>NaN</td>\n",
              "      <td>NaN</td>\n",
              "      <td>NaN</td>\n",
              "      <td>NaN</td>\n",
              "    </tr>\n",
              "    <tr>\n",
              "      <th>4</th>\n",
              "      <td>1139253</td>\n",
              "      <td>11000</td>\n",
              "      <td>1057373</td>\n",
              "      <td>17311</td>\n",
              "      <td>121</td>\n",
              "      <td>...</td>\n",
              "      <td>NaN</td>\n",
              "      <td>NaN</td>\n",
              "      <td>NaN</td>\n",
              "      <td>NaN</td>\n",
              "      <td>NaN</td>\n",
              "    </tr>\n",
              "  </tbody>\n",
              "</table>\n",
              "<p>5 rows × 53 columns</p>\n",
              "</div>"
            ],
            "text/plain": [
              "   SalesID  SalePrice  MachineID  ModelID  datasource  ...  Backhoe_Mounting  \\\n",
              "0  1139246      66000     999089     3157         121  ...               NaN   \n",
              "1  1139248      57000     117657       77         121  ...               NaN   \n",
              "2  1139249      10000     434808     7009         121  ...               NaN   \n",
              "3  1139251      38500    1026470      332         121  ...               NaN   \n",
              "4  1139253      11000    1057373    17311         121  ...               NaN   \n",
              "\n",
              "   Blade_Type  Travel_Controls Differential_Type Steering_Controls  \n",
              "0         NaN              NaN          Standard      Conventional  \n",
              "1         NaN              NaN          Standard      Conventional  \n",
              "2         NaN              NaN               NaN               NaN  \n",
              "3         NaN              NaN               NaN               NaN  \n",
              "4         NaN              NaN               NaN               NaN  \n",
              "\n",
              "[5 rows x 53 columns]"
            ]
          },
          "metadata": {
            "tags": []
          },
          "execution_count": 7
        }
      ]
    },
    {
      "cell_type": "code",
      "metadata": {
        "id": "gX7_TG6IrTwi",
        "colab_type": "code",
        "colab": {}
      },
      "source": [
        "inspect = inspect_df(df_raw)\n",
        "#display_allrows(inspect)"
      ],
      "execution_count": 0,
      "outputs": []
    },
    {
      "cell_type": "code",
      "metadata": {
        "id": "EnP49Q3IrTwn",
        "colab_type": "code",
        "colab": {
          "base_uri": "https://localhost:8080/",
          "height": 175
        },
        "outputId": "2e8d1f71-eb1e-48ab-97ea-d1ae9d4ef2a1"
      },
      "source": [
        "summary = summarize_df(df_raw)\n",
        "display_allrows(summary)"
      ],
      "execution_count": 9,
      "outputs": [
        {
          "output_type": "display_data",
          "data": {
            "text/html": [
              "<div>\n",
              "<style scoped>\n",
              "    .dataframe tbody tr th:only-of-type {\n",
              "        vertical-align: middle;\n",
              "    }\n",
              "\n",
              "    .dataframe tbody tr th {\n",
              "        vertical-align: top;\n",
              "    }\n",
              "\n",
              "    .dataframe thead th {\n",
              "        text-align: right;\n",
              "    }\n",
              "</style>\n",
              "<table border=\"1\" class=\"dataframe\">\n",
              "  <thead>\n",
              "    <tr style=\"text-align: right;\">\n",
              "      <th></th>\n",
              "      <th>type</th>\n",
              "      <th>ncols</th>\n",
              "      <th>ncols_w_nans</th>\n",
              "      <th>n_nans</th>\n",
              "      <th>n_total</th>\n",
              "      <th>nan_frac</th>\n",
              "    </tr>\n",
              "  </thead>\n",
              "  <tbody>\n",
              "    <tr>\n",
              "      <th>0</th>\n",
              "      <td>datetime64[ns]</td>\n",
              "      <td>1</td>\n",
              "      <td>0</td>\n",
              "      <td>0</td>\n",
              "      <td>401125</td>\n",
              "      <td>0.00</td>\n",
              "    </tr>\n",
              "    <tr>\n",
              "      <th>1</th>\n",
              "      <td>float64</td>\n",
              "      <td>2</td>\n",
              "      <td>0</td>\n",
              "      <td>0</td>\n",
              "      <td>802250</td>\n",
              "      <td>0.00</td>\n",
              "    </tr>\n",
              "    <tr>\n",
              "      <th>2</th>\n",
              "      <td>int64</td>\n",
              "      <td>6</td>\n",
              "      <td>0</td>\n",
              "      <td>0</td>\n",
              "      <td>2406750</td>\n",
              "      <td>0.00</td>\n",
              "    </tr>\n",
              "    <tr>\n",
              "      <th>3</th>\n",
              "      <td>object</td>\n",
              "      <td>44</td>\n",
              "      <td>22</td>\n",
              "      <td>6002766</td>\n",
              "      <td>17649500</td>\n",
              "      <td>0.34</td>\n",
              "    </tr>\n",
              "  </tbody>\n",
              "</table>\n",
              "</div>"
            ],
            "text/plain": [
              "             type  ncols  ncols_w_nans   n_nans   n_total  nan_frac\n",
              "0  datetime64[ns]      1             0        0    401125      0.00\n",
              "1         float64      2             0        0    802250      0.00\n",
              "2           int64      6             0        0   2406750      0.00\n",
              "3          object     44            22  6002766  17649500      0.34"
            ]
          },
          "metadata": {
            "tags": []
          }
        }
      ]
    },
    {
      "cell_type": "markdown",
      "metadata": {
        "id": "Xowpg74RrTwv",
        "colab_type": "text"
      },
      "source": [
        "### Add log price"
      ]
    },
    {
      "cell_type": "code",
      "metadata": {
        "id": "EAJ17gncrTwz",
        "colab_type": "code",
        "colab": {}
      },
      "source": [
        "df_proc = df_raw.copy(deep=True)\n",
        "if 'SalePrice' in df_proc.columns:\n",
        "    df_proc['LogSalePrice'] = np.log(df_proc['SalePrice'])\n",
        "    df_proc.drop(columns=['SalePrice'], inplace=True)"
      ],
      "execution_count": 0,
      "outputs": []
    },
    {
      "cell_type": "code",
      "metadata": {
        "id": "8JgNPr5-rTxD",
        "colab_type": "code",
        "colab": {
          "base_uri": "https://localhost:8080/",
          "height": 256
        },
        "outputId": "9238e1d3-c403-488c-aa51-ad5b15a35a72"
      },
      "source": [
        "df_proc.head()"
      ],
      "execution_count": 11,
      "outputs": [
        {
          "output_type": "execute_result",
          "data": {
            "text/html": [
              "<div>\n",
              "<style scoped>\n",
              "    .dataframe tbody tr th:only-of-type {\n",
              "        vertical-align: middle;\n",
              "    }\n",
              "\n",
              "    .dataframe tbody tr th {\n",
              "        vertical-align: top;\n",
              "    }\n",
              "\n",
              "    .dataframe thead th {\n",
              "        text-align: right;\n",
              "    }\n",
              "</style>\n",
              "<table border=\"1\" class=\"dataframe\">\n",
              "  <thead>\n",
              "    <tr style=\"text-align: right;\">\n",
              "      <th></th>\n",
              "      <th>SalesID</th>\n",
              "      <th>MachineID</th>\n",
              "      <th>ModelID</th>\n",
              "      <th>datasource</th>\n",
              "      <th>auctioneerID</th>\n",
              "      <th>...</th>\n",
              "      <th>Blade_Type</th>\n",
              "      <th>Travel_Controls</th>\n",
              "      <th>Differential_Type</th>\n",
              "      <th>Steering_Controls</th>\n",
              "      <th>LogSalePrice</th>\n",
              "    </tr>\n",
              "  </thead>\n",
              "  <tbody>\n",
              "    <tr>\n",
              "      <th>0</th>\n",
              "      <td>1139246</td>\n",
              "      <td>999089</td>\n",
              "      <td>3157</td>\n",
              "      <td>121</td>\n",
              "      <td>3.0</td>\n",
              "      <td>...</td>\n",
              "      <td>NaN</td>\n",
              "      <td>NaN</td>\n",
              "      <td>Standard</td>\n",
              "      <td>Conventional</td>\n",
              "      <td>11.097410</td>\n",
              "    </tr>\n",
              "    <tr>\n",
              "      <th>1</th>\n",
              "      <td>1139248</td>\n",
              "      <td>117657</td>\n",
              "      <td>77</td>\n",
              "      <td>121</td>\n",
              "      <td>3.0</td>\n",
              "      <td>...</td>\n",
              "      <td>NaN</td>\n",
              "      <td>NaN</td>\n",
              "      <td>Standard</td>\n",
              "      <td>Conventional</td>\n",
              "      <td>10.950807</td>\n",
              "    </tr>\n",
              "    <tr>\n",
              "      <th>2</th>\n",
              "      <td>1139249</td>\n",
              "      <td>434808</td>\n",
              "      <td>7009</td>\n",
              "      <td>121</td>\n",
              "      <td>3.0</td>\n",
              "      <td>...</td>\n",
              "      <td>NaN</td>\n",
              "      <td>NaN</td>\n",
              "      <td>NaN</td>\n",
              "      <td>NaN</td>\n",
              "      <td>9.210340</td>\n",
              "    </tr>\n",
              "    <tr>\n",
              "      <th>3</th>\n",
              "      <td>1139251</td>\n",
              "      <td>1026470</td>\n",
              "      <td>332</td>\n",
              "      <td>121</td>\n",
              "      <td>3.0</td>\n",
              "      <td>...</td>\n",
              "      <td>NaN</td>\n",
              "      <td>NaN</td>\n",
              "      <td>NaN</td>\n",
              "      <td>NaN</td>\n",
              "      <td>10.558414</td>\n",
              "    </tr>\n",
              "    <tr>\n",
              "      <th>4</th>\n",
              "      <td>1139253</td>\n",
              "      <td>1057373</td>\n",
              "      <td>17311</td>\n",
              "      <td>121</td>\n",
              "      <td>3.0</td>\n",
              "      <td>...</td>\n",
              "      <td>NaN</td>\n",
              "      <td>NaN</td>\n",
              "      <td>NaN</td>\n",
              "      <td>NaN</td>\n",
              "      <td>9.305651</td>\n",
              "    </tr>\n",
              "  </tbody>\n",
              "</table>\n",
              "<p>5 rows × 53 columns</p>\n",
              "</div>"
            ],
            "text/plain": [
              "   SalesID  MachineID  ModelID  datasource  auctioneerID  ...  Blade_Type  \\\n",
              "0  1139246     999089     3157         121           3.0  ...         NaN   \n",
              "1  1139248     117657       77         121           3.0  ...         NaN   \n",
              "2  1139249     434808     7009         121           3.0  ...         NaN   \n",
              "3  1139251    1026470      332         121           3.0  ...         NaN   \n",
              "4  1139253    1057373    17311         121           3.0  ...         NaN   \n",
              "\n",
              "   Travel_Controls Differential_Type Steering_Controls LogSalePrice  \n",
              "0              NaN          Standard      Conventional    11.097410  \n",
              "1              NaN          Standard      Conventional    10.950807  \n",
              "2              NaN               NaN               NaN     9.210340  \n",
              "3              NaN               NaN               NaN    10.558414  \n",
              "4              NaN               NaN               NaN     9.305651  \n",
              "\n",
              "[5 rows x 53 columns]"
            ]
          },
          "metadata": {
            "tags": []
          },
          "execution_count": 11
        }
      ]
    },
    {
      "cell_type": "markdown",
      "metadata": {
        "id": "vsSalC4zrTxJ",
        "colab_type": "text"
      },
      "source": [
        "### Extract date properties\n",
        "See [Attributes of Pandas Timestamp](https://pandas.pydata.org/pandas-docs/stable/reference/api/pandas.Timestamp.html)"
      ]
    },
    {
      "cell_type": "code",
      "metadata": {
        "id": "r3Mil6MKrTxK",
        "colab_type": "code",
        "colab": {}
      },
      "source": [
        "if 'saledate' in df_proc.columns:\n",
        "    df_proc = add_datefields(df_proc, 'saledate', drop_original=True)"
      ],
      "execution_count": 0,
      "outputs": []
    },
    {
      "cell_type": "code",
      "metadata": {
        "id": "mWALgqjjrTxQ",
        "colab_type": "code",
        "colab": {
          "base_uri": "https://localhost:8080/",
          "height": 0
        },
        "outputId": "dfe698ac-ba7c-4f44-921e-f2dc39348d7d"
      },
      "source": [
        "df_proc.head()"
      ],
      "execution_count": 13,
      "outputs": [
        {
          "output_type": "execute_result",
          "data": {
            "text/html": [
              "<div>\n",
              "<style scoped>\n",
              "    .dataframe tbody tr th:only-of-type {\n",
              "        vertical-align: middle;\n",
              "    }\n",
              "\n",
              "    .dataframe tbody tr th {\n",
              "        vertical-align: top;\n",
              "    }\n",
              "\n",
              "    .dataframe thead th {\n",
              "        text-align: right;\n",
              "    }\n",
              "</style>\n",
              "<table border=\"1\" class=\"dataframe\">\n",
              "  <thead>\n",
              "    <tr style=\"text-align: right;\">\n",
              "      <th></th>\n",
              "      <th>SalesID</th>\n",
              "      <th>MachineID</th>\n",
              "      <th>ModelID</th>\n",
              "      <th>datasource</th>\n",
              "      <th>auctioneerID</th>\n",
              "      <th>...</th>\n",
              "      <th>saledate_is_month_start</th>\n",
              "      <th>saledate_is_quarter_end</th>\n",
              "      <th>saledate_is_quarter_start</th>\n",
              "      <th>saledate_quarter</th>\n",
              "      <th>saledate_week</th>\n",
              "    </tr>\n",
              "  </thead>\n",
              "  <tbody>\n",
              "    <tr>\n",
              "      <th>0</th>\n",
              "      <td>1139246</td>\n",
              "      <td>999089</td>\n",
              "      <td>3157</td>\n",
              "      <td>121</td>\n",
              "      <td>3.0</td>\n",
              "      <td>...</td>\n",
              "      <td>False</td>\n",
              "      <td>False</td>\n",
              "      <td>False</td>\n",
              "      <td>4</td>\n",
              "      <td>46</td>\n",
              "    </tr>\n",
              "    <tr>\n",
              "      <th>1</th>\n",
              "      <td>1139248</td>\n",
              "      <td>117657</td>\n",
              "      <td>77</td>\n",
              "      <td>121</td>\n",
              "      <td>3.0</td>\n",
              "      <td>...</td>\n",
              "      <td>False</td>\n",
              "      <td>False</td>\n",
              "      <td>False</td>\n",
              "      <td>1</td>\n",
              "      <td>13</td>\n",
              "    </tr>\n",
              "    <tr>\n",
              "      <th>2</th>\n",
              "      <td>1139249</td>\n",
              "      <td>434808</td>\n",
              "      <td>7009</td>\n",
              "      <td>121</td>\n",
              "      <td>3.0</td>\n",
              "      <td>...</td>\n",
              "      <td>False</td>\n",
              "      <td>False</td>\n",
              "      <td>False</td>\n",
              "      <td>1</td>\n",
              "      <td>9</td>\n",
              "    </tr>\n",
              "    <tr>\n",
              "      <th>3</th>\n",
              "      <td>1139251</td>\n",
              "      <td>1026470</td>\n",
              "      <td>332</td>\n",
              "      <td>121</td>\n",
              "      <td>3.0</td>\n",
              "      <td>...</td>\n",
              "      <td>False</td>\n",
              "      <td>False</td>\n",
              "      <td>False</td>\n",
              "      <td>2</td>\n",
              "      <td>20</td>\n",
              "    </tr>\n",
              "    <tr>\n",
              "      <th>4</th>\n",
              "      <td>1139253</td>\n",
              "      <td>1057373</td>\n",
              "      <td>17311</td>\n",
              "      <td>121</td>\n",
              "      <td>3.0</td>\n",
              "      <td>...</td>\n",
              "      <td>False</td>\n",
              "      <td>False</td>\n",
              "      <td>False</td>\n",
              "      <td>3</td>\n",
              "      <td>30</td>\n",
              "    </tr>\n",
              "  </tbody>\n",
              "</table>\n",
              "<p>5 rows × 60 columns</p>\n",
              "</div>"
            ],
            "text/plain": [
              "   SalesID  MachineID  ModelID  datasource  auctioneerID  ...  \\\n",
              "0  1139246     999089     3157         121           3.0  ...   \n",
              "1  1139248     117657       77         121           3.0  ...   \n",
              "2  1139249     434808     7009         121           3.0  ...   \n",
              "3  1139251    1026470      332         121           3.0  ...   \n",
              "4  1139253    1057373    17311         121           3.0  ...   \n",
              "\n",
              "   saledate_is_month_start  saledate_is_quarter_end saledate_is_quarter_start  \\\n",
              "0                    False                    False                     False   \n",
              "1                    False                    False                     False   \n",
              "2                    False                    False                     False   \n",
              "3                    False                    False                     False   \n",
              "4                    False                    False                     False   \n",
              "\n",
              "  saledate_quarter saledate_week  \n",
              "0                4            46  \n",
              "1                1            13  \n",
              "2                1             9  \n",
              "3                2            20  \n",
              "4                3            30  \n",
              "\n",
              "[5 rows x 60 columns]"
            ]
          },
          "metadata": {
            "tags": []
          },
          "execution_count": 13
        }
      ]
    },
    {
      "cell_type": "markdown",
      "metadata": {
        "id": "04kPE4VArTxX",
        "colab_type": "text"
      },
      "source": [
        "### Add NaN column\n",
        "Here we add a columns indicating whether the original column contained a NaN"
      ]
    },
    {
      "cell_type": "code",
      "metadata": {
        "id": "aKSS7MR-rTxY",
        "colab_type": "code",
        "colab": {
          "base_uri": "https://localhost:8080/",
          "height": 0
        },
        "outputId": "a73af408-d5da-4380-8a01-1a8b9d10ff17"
      },
      "source": [
        "df_proc = add_nan_columns(df_proc)\n",
        "df_proc.head()"
      ],
      "execution_count": 14,
      "outputs": [
        {
          "output_type": "execute_result",
          "data": {
            "text/html": [
              "<div>\n",
              "<style scoped>\n",
              "    .dataframe tbody tr th:only-of-type {\n",
              "        vertical-align: middle;\n",
              "    }\n",
              "\n",
              "    .dataframe tbody tr th {\n",
              "        vertical-align: top;\n",
              "    }\n",
              "\n",
              "    .dataframe thead th {\n",
              "        text-align: right;\n",
              "    }\n",
              "</style>\n",
              "<table border=\"1\" class=\"dataframe\">\n",
              "  <thead>\n",
              "    <tr style=\"text-align: right;\">\n",
              "      <th></th>\n",
              "      <th>SalesID</th>\n",
              "      <th>MachineID</th>\n",
              "      <th>ModelID</th>\n",
              "      <th>datasource</th>\n",
              "      <th>auctioneerID</th>\n",
              "      <th>...</th>\n",
              "      <th>Backhoe_Mounting_isnull</th>\n",
              "      <th>Blade_Type_isnull</th>\n",
              "      <th>Travel_Controls_isnull</th>\n",
              "      <th>Differential_Type_isnull</th>\n",
              "      <th>Steering_Controls_isnull</th>\n",
              "    </tr>\n",
              "  </thead>\n",
              "  <tbody>\n",
              "    <tr>\n",
              "      <th>0</th>\n",
              "      <td>1139246</td>\n",
              "      <td>999089</td>\n",
              "      <td>3157</td>\n",
              "      <td>121</td>\n",
              "      <td>3.0</td>\n",
              "      <td>...</td>\n",
              "      <td>True</td>\n",
              "      <td>True</td>\n",
              "      <td>True</td>\n",
              "      <td>False</td>\n",
              "      <td>False</td>\n",
              "    </tr>\n",
              "    <tr>\n",
              "      <th>1</th>\n",
              "      <td>1139248</td>\n",
              "      <td>117657</td>\n",
              "      <td>77</td>\n",
              "      <td>121</td>\n",
              "      <td>3.0</td>\n",
              "      <td>...</td>\n",
              "      <td>True</td>\n",
              "      <td>True</td>\n",
              "      <td>True</td>\n",
              "      <td>False</td>\n",
              "      <td>False</td>\n",
              "    </tr>\n",
              "    <tr>\n",
              "      <th>2</th>\n",
              "      <td>1139249</td>\n",
              "      <td>434808</td>\n",
              "      <td>7009</td>\n",
              "      <td>121</td>\n",
              "      <td>3.0</td>\n",
              "      <td>...</td>\n",
              "      <td>True</td>\n",
              "      <td>True</td>\n",
              "      <td>True</td>\n",
              "      <td>True</td>\n",
              "      <td>True</td>\n",
              "    </tr>\n",
              "    <tr>\n",
              "      <th>3</th>\n",
              "      <td>1139251</td>\n",
              "      <td>1026470</td>\n",
              "      <td>332</td>\n",
              "      <td>121</td>\n",
              "      <td>3.0</td>\n",
              "      <td>...</td>\n",
              "      <td>True</td>\n",
              "      <td>True</td>\n",
              "      <td>True</td>\n",
              "      <td>True</td>\n",
              "      <td>True</td>\n",
              "    </tr>\n",
              "    <tr>\n",
              "      <th>4</th>\n",
              "      <td>1139253</td>\n",
              "      <td>1057373</td>\n",
              "      <td>17311</td>\n",
              "      <td>121</td>\n",
              "      <td>3.0</td>\n",
              "      <td>...</td>\n",
              "      <td>True</td>\n",
              "      <td>True</td>\n",
              "      <td>True</td>\n",
              "      <td>True</td>\n",
              "      <td>True</td>\n",
              "    </tr>\n",
              "  </tbody>\n",
              "</table>\n",
              "<p>5 rows × 100 columns</p>\n",
              "</div>"
            ],
            "text/plain": [
              "   SalesID  MachineID  ModelID  datasource  auctioneerID  ...  \\\n",
              "0  1139246     999089     3157         121           3.0  ...   \n",
              "1  1139248     117657       77         121           3.0  ...   \n",
              "2  1139249     434808     7009         121           3.0  ...   \n",
              "3  1139251    1026470      332         121           3.0  ...   \n",
              "4  1139253    1057373    17311         121           3.0  ...   \n",
              "\n",
              "   Backhoe_Mounting_isnull  Blade_Type_isnull Travel_Controls_isnull  \\\n",
              "0                     True               True                   True   \n",
              "1                     True               True                   True   \n",
              "2                     True               True                   True   \n",
              "3                     True               True                   True   \n",
              "4                     True               True                   True   \n",
              "\n",
              "  Differential_Type_isnull Steering_Controls_isnull  \n",
              "0                    False                    False  \n",
              "1                    False                    False  \n",
              "2                     True                     True  \n",
              "3                     True                     True  \n",
              "4                     True                     True  \n",
              "\n",
              "[5 rows x 100 columns]"
            ]
          },
          "metadata": {
            "tags": []
          },
          "execution_count": 14
        }
      ]
    },
    {
      "cell_type": "markdown",
      "metadata": {
        "id": "ZvcYixRxrTxd",
        "colab_type": "text"
      },
      "source": [
        "### Handle numerical types containing NaN"
      ]
    },
    {
      "cell_type": "code",
      "metadata": {
        "id": "UCEBxqwPrTxe",
        "colab_type": "code",
        "colab": {
          "base_uri": "https://localhost:8080/",
          "height": 0
        },
        "outputId": "4401df77-6d8b-4b1d-a25e-42e8b77be242"
      },
      "source": [
        "stats = numeric_nans(df_raw)\n",
        "stats"
      ],
      "execution_count": 15,
      "outputs": [
        {
          "output_type": "execute_result",
          "data": {
            "text/html": [
              "<div>\n",
              "<style scoped>\n",
              "    .dataframe tbody tr th:only-of-type {\n",
              "        vertical-align: middle;\n",
              "    }\n",
              "\n",
              "    .dataframe tbody tr th {\n",
              "        vertical-align: top;\n",
              "    }\n",
              "\n",
              "    .dataframe thead th {\n",
              "        text-align: right;\n",
              "    }\n",
              "</style>\n",
              "<table border=\"1\" class=\"dataframe\">\n",
              "  <thead>\n",
              "    <tr style=\"text-align: right;\">\n",
              "      <th></th>\n",
              "      <th>column</th>\n",
              "      <th>null_fraction</th>\n",
              "      <th>nulls</th>\n",
              "      <th>type</th>\n",
              "      <th>is_numeric</th>\n",
              "      <th>num_uniques</th>\n",
              "      <th>uniques</th>\n",
              "    </tr>\n",
              "  </thead>\n",
              "  <tbody>\n",
              "    <tr>\n",
              "      <th>0</th>\n",
              "      <td>auctioneerID</td>\n",
              "      <td>0.050</td>\n",
              "      <td>20136</td>\n",
              "      <td>float64</td>\n",
              "      <td>True</td>\n",
              "      <td>30</td>\n",
              "      <td>[0.0, 1.0, 2.0, 3.0, 4.0, 5.0, 6.0, 7.0, 8.0, ...</td>\n",
              "    </tr>\n",
              "    <tr>\n",
              "      <th>1</th>\n",
              "      <td>MachineHoursCurrentMeter</td>\n",
              "      <td>0.644</td>\n",
              "      <td>258360</td>\n",
              "      <td>float64</td>\n",
              "      <td>True</td>\n",
              "      <td>15152</td>\n",
              "      <td>[0.0, 2.0, 3.0, 4.0, 5.0, 6.0, 7.0, 8.0, 9.0, ...</td>\n",
              "    </tr>\n",
              "  </tbody>\n",
              "</table>\n",
              "</div>"
            ],
            "text/plain": [
              "                     column  null_fraction   nulls     type  is_numeric  \\\n",
              "0              auctioneerID          0.050   20136  float64        True   \n",
              "1  MachineHoursCurrentMeter          0.644  258360  float64        True   \n",
              "\n",
              "   num_uniques                                            uniques  \n",
              "0           30  [0.0, 1.0, 2.0, 3.0, 4.0, 5.0, 6.0, 7.0, 8.0, ...  \n",
              "1        15152  [0.0, 2.0, 3.0, 4.0, 5.0, 6.0, 7.0, 8.0, 9.0, ...  "
            ]
          },
          "metadata": {
            "tags": []
          },
          "execution_count": 15
        }
      ]
    },
    {
      "cell_type": "code",
      "metadata": {
        "id": "xvIAxxJ0rTxi",
        "colab_type": "code",
        "colab": {}
      },
      "source": [
        "df_proc['auctioneerID'] = df_proc['auctioneerID'].fillna(\n",
        "    df_proc['auctioneerID'].max() + 1\n",
        ")\n",
        "\n",
        "df_proc['MachineHoursCurrentMeter'] = df_proc['MachineHoursCurrentMeter'].fillna(\n",
        "    df_proc['MachineHoursCurrentMeter'].median()\n",
        ")"
      ],
      "execution_count": 0,
      "outputs": []
    },
    {
      "cell_type": "code",
      "metadata": {
        "id": "Zy7c8xqhrTxn",
        "colab_type": "code",
        "colab": {
          "base_uri": "https://localhost:8080/",
          "height": 0
        },
        "outputId": "c0ac2f03-aaa5-476e-b665-cbf1275ee0be"
      },
      "source": [
        "numeric_nans(df_proc)"
      ],
      "execution_count": 17,
      "outputs": [
        {
          "output_type": "execute_result",
          "data": {
            "text/html": [
              "<div>\n",
              "<style scoped>\n",
              "    .dataframe tbody tr th:only-of-type {\n",
              "        vertical-align: middle;\n",
              "    }\n",
              "\n",
              "    .dataframe tbody tr th {\n",
              "        vertical-align: top;\n",
              "    }\n",
              "\n",
              "    .dataframe thead th {\n",
              "        text-align: right;\n",
              "    }\n",
              "</style>\n",
              "<table border=\"1\" class=\"dataframe\">\n",
              "  <thead>\n",
              "    <tr style=\"text-align: right;\">\n",
              "      <th></th>\n",
              "      <th>column</th>\n",
              "      <th>null_fraction</th>\n",
              "      <th>nulls</th>\n",
              "      <th>type</th>\n",
              "      <th>is_numeric</th>\n",
              "      <th>num_uniques</th>\n",
              "      <th>uniques</th>\n",
              "    </tr>\n",
              "  </thead>\n",
              "  <tbody>\n",
              "  </tbody>\n",
              "</table>\n",
              "</div>"
            ],
            "text/plain": [
              "Empty DataFrame\n",
              "Columns: [column, null_fraction, nulls, type, is_numeric, num_uniques, uniques]\n",
              "Index: []"
            ]
          },
          "metadata": {
            "tags": []
          },
          "execution_count": 17
        }
      ]
    },
    {
      "cell_type": "markdown",
      "metadata": {
        "id": "-qJx0IcirTxs",
        "colab_type": "text"
      },
      "source": [
        "### Add categories\n",
        "- http://benalexkeen.com/mapping-categorical-data-in-pandas/\n",
        "- https://pandas.pydata.org/pandas-docs/stable/user_guide/categorical.html"
      ]
    },
    {
      "cell_type": "code",
      "metadata": {
        "id": "bCuD57FJrTxt",
        "colab_type": "code",
        "colab": {}
      },
      "source": [
        "(df_cats, catcodes) = categorize_df(df_proc)"
      ],
      "execution_count": 0,
      "outputs": []
    },
    {
      "cell_type": "code",
      "metadata": {
        "id": "upoGbkfdrTxz",
        "colab_type": "code",
        "colab": {
          "base_uri": "https://localhost:8080/",
          "height": 0
        },
        "outputId": "56015e43-18e6-41ab-b898-2d12c066da2a"
      },
      "source": [
        "df_cats.head()"
      ],
      "execution_count": 19,
      "outputs": [
        {
          "output_type": "execute_result",
          "data": {
            "text/html": [
              "<div>\n",
              "<style scoped>\n",
              "    .dataframe tbody tr th:only-of-type {\n",
              "        vertical-align: middle;\n",
              "    }\n",
              "\n",
              "    .dataframe tbody tr th {\n",
              "        vertical-align: top;\n",
              "    }\n",
              "\n",
              "    .dataframe thead th {\n",
              "        text-align: right;\n",
              "    }\n",
              "</style>\n",
              "<table border=\"1\" class=\"dataframe\">\n",
              "  <thead>\n",
              "    <tr style=\"text-align: right;\">\n",
              "      <th></th>\n",
              "      <th>SalesID</th>\n",
              "      <th>MachineID</th>\n",
              "      <th>ModelID</th>\n",
              "      <th>datasource</th>\n",
              "      <th>auctioneerID</th>\n",
              "      <th>...</th>\n",
              "      <th>Backhoe_Mounting_category</th>\n",
              "      <th>Blade_Type_category</th>\n",
              "      <th>Travel_Controls_category</th>\n",
              "      <th>Differential_Type_category</th>\n",
              "      <th>Steering_Controls_category</th>\n",
              "    </tr>\n",
              "  </thead>\n",
              "  <tbody>\n",
              "    <tr>\n",
              "      <th>0</th>\n",
              "      <td>1139246</td>\n",
              "      <td>999089</td>\n",
              "      <td>3157</td>\n",
              "      <td>121</td>\n",
              "      <td>3.0</td>\n",
              "      <td>...</td>\n",
              "      <td>0</td>\n",
              "      <td>0</td>\n",
              "      <td>0</td>\n",
              "      <td>4</td>\n",
              "      <td>2</td>\n",
              "    </tr>\n",
              "    <tr>\n",
              "      <th>1</th>\n",
              "      <td>1139248</td>\n",
              "      <td>117657</td>\n",
              "      <td>77</td>\n",
              "      <td>121</td>\n",
              "      <td>3.0</td>\n",
              "      <td>...</td>\n",
              "      <td>0</td>\n",
              "      <td>0</td>\n",
              "      <td>0</td>\n",
              "      <td>4</td>\n",
              "      <td>2</td>\n",
              "    </tr>\n",
              "    <tr>\n",
              "      <th>2</th>\n",
              "      <td>1139249</td>\n",
              "      <td>434808</td>\n",
              "      <td>7009</td>\n",
              "      <td>121</td>\n",
              "      <td>3.0</td>\n",
              "      <td>...</td>\n",
              "      <td>0</td>\n",
              "      <td>0</td>\n",
              "      <td>0</td>\n",
              "      <td>0</td>\n",
              "      <td>0</td>\n",
              "    </tr>\n",
              "    <tr>\n",
              "      <th>3</th>\n",
              "      <td>1139251</td>\n",
              "      <td>1026470</td>\n",
              "      <td>332</td>\n",
              "      <td>121</td>\n",
              "      <td>3.0</td>\n",
              "      <td>...</td>\n",
              "      <td>0</td>\n",
              "      <td>0</td>\n",
              "      <td>0</td>\n",
              "      <td>0</td>\n",
              "      <td>0</td>\n",
              "    </tr>\n",
              "    <tr>\n",
              "      <th>4</th>\n",
              "      <td>1139253</td>\n",
              "      <td>1057373</td>\n",
              "      <td>17311</td>\n",
              "      <td>121</td>\n",
              "      <td>3.0</td>\n",
              "      <td>...</td>\n",
              "      <td>0</td>\n",
              "      <td>0</td>\n",
              "      <td>0</td>\n",
              "      <td>0</td>\n",
              "      <td>0</td>\n",
              "    </tr>\n",
              "  </tbody>\n",
              "</table>\n",
              "<p>5 rows × 100 columns</p>\n",
              "</div>"
            ],
            "text/plain": [
              "   SalesID  MachineID  ModelID  datasource  auctioneerID  ...  \\\n",
              "0  1139246     999089     3157         121           3.0  ...   \n",
              "1  1139248     117657       77         121           3.0  ...   \n",
              "2  1139249     434808     7009         121           3.0  ...   \n",
              "3  1139251    1026470      332         121           3.0  ...   \n",
              "4  1139253    1057373    17311         121           3.0  ...   \n",
              "\n",
              "   Backhoe_Mounting_category  Blade_Type_category  Travel_Controls_category  \\\n",
              "0                          0                    0                         0   \n",
              "1                          0                    0                         0   \n",
              "2                          0                    0                         0   \n",
              "3                          0                    0                         0   \n",
              "4                          0                    0                         0   \n",
              "\n",
              "   Differential_Type_category  Steering_Controls_category  \n",
              "0                           4                           2  \n",
              "1                           4                           2  \n",
              "2                           0                           0  \n",
              "3                           0                           0  \n",
              "4                           0                           0  \n",
              "\n",
              "[5 rows x 100 columns]"
            ]
          },
          "metadata": {
            "tags": []
          },
          "execution_count": 19
        }
      ]
    },
    {
      "cell_type": "code",
      "metadata": {
        "id": "dqnuQoHcrTx3",
        "colab_type": "code",
        "colab": {
          "base_uri": "https://localhost:8080/",
          "height": 0
        },
        "outputId": "911cb4db-d94c-4a17-f16d-afce59a5db39"
      },
      "source": [
        "catcodes.head()"
      ],
      "execution_count": 20,
      "outputs": [
        {
          "output_type": "execute_result",
          "data": {
            "text/html": [
              "<div>\n",
              "<style scoped>\n",
              "    .dataframe tbody tr th:only-of-type {\n",
              "        vertical-align: middle;\n",
              "    }\n",
              "\n",
              "    .dataframe tbody tr th {\n",
              "        vertical-align: top;\n",
              "    }\n",
              "\n",
              "    .dataframe thead th {\n",
              "        text-align: right;\n",
              "    }\n",
              "</style>\n",
              "<table border=\"1\" class=\"dataframe\">\n",
              "  <thead>\n",
              "    <tr style=\"text-align: right;\">\n",
              "      <th></th>\n",
              "      <th>column</th>\n",
              "      <th>n_categories</th>\n",
              "      <th>categories</th>\n",
              "      <th>codes</th>\n",
              "    </tr>\n",
              "  </thead>\n",
              "  <tbody>\n",
              "    <tr>\n",
              "      <th>0</th>\n",
              "      <td>UsageBand</td>\n",
              "      <td>4</td>\n",
              "      <td>Index(['High', 'Low', 'Medium'], dtype='object')</td>\n",
              "      <td>0         2\n",
              "1         2\n",
              "2         1\n",
              "3         ...</td>\n",
              "    </tr>\n",
              "    <tr>\n",
              "      <th>1</th>\n",
              "      <td>fiModelDesc</td>\n",
              "      <td>4999</td>\n",
              "      <td>Index(['100C', '104', '1066', '1066E', '1080',...</td>\n",
              "      <td>0          950\n",
              "1         1725\n",
              "2          331\n",
              "3...</td>\n",
              "    </tr>\n",
              "    <tr>\n",
              "      <th>2</th>\n",
              "      <td>fiBaseModel</td>\n",
              "      <td>1950</td>\n",
              "      <td>Index(['10', '100', '104', '1066', '1080', '10...</td>\n",
              "      <td>0          296\n",
              "1          527\n",
              "2          110\n",
              "3...</td>\n",
              "    </tr>\n",
              "    <tr>\n",
              "      <th>3</th>\n",
              "      <td>fiSecondaryDesc</td>\n",
              "      <td>176</td>\n",
              "      <td>Index([' MSR SPIN ACE', '#NAME?', '-2', '-3', ...</td>\n",
              "      <td>0          41\n",
              "1          55\n",
              "2           0\n",
              "3   ...</td>\n",
              "    </tr>\n",
              "    <tr>\n",
              "      <th>4</th>\n",
              "      <td>fiModelSeries</td>\n",
              "      <td>123</td>\n",
              "      <td>Index([' III', '#NAME?', '-1', '-1.50E+01', '-...</td>\n",
              "      <td>0          0\n",
              "1         98\n",
              "2          0\n",
              "3      ...</td>\n",
              "    </tr>\n",
              "  </tbody>\n",
              "</table>\n",
              "</div>"
            ],
            "text/plain": [
              "            column  n_categories  \\\n",
              "0        UsageBand             4   \n",
              "1      fiModelDesc          4999   \n",
              "2      fiBaseModel          1950   \n",
              "3  fiSecondaryDesc           176   \n",
              "4    fiModelSeries           123   \n",
              "\n",
              "                                          categories  \\\n",
              "0   Index(['High', 'Low', 'Medium'], dtype='object')   \n",
              "1  Index(['100C', '104', '1066', '1066E', '1080',...   \n",
              "2  Index(['10', '100', '104', '1066', '1080', '10...   \n",
              "3  Index([' MSR SPIN ACE', '#NAME?', '-2', '-3', ...   \n",
              "4  Index([' III', '#NAME?', '-1', '-1.50E+01', '-...   \n",
              "\n",
              "                                               codes  \n",
              "0  0         2\n",
              "1         2\n",
              "2         1\n",
              "3         ...  \n",
              "1  0          950\n",
              "1         1725\n",
              "2          331\n",
              "3...  \n",
              "2  0          296\n",
              "1          527\n",
              "2          110\n",
              "3...  \n",
              "3  0          41\n",
              "1          55\n",
              "2           0\n",
              "3   ...  \n",
              "4  0          0\n",
              "1         98\n",
              "2          0\n",
              "3      ...  "
            ]
          },
          "metadata": {
            "tags": []
          },
          "execution_count": 20
        }
      ]
    },
    {
      "cell_type": "markdown",
      "metadata": {
        "id": "ZG-sBcvGrTx8",
        "colab_type": "text"
      },
      "source": [
        "### Inspect results of data processing"
      ]
    },
    {
      "cell_type": "code",
      "metadata": {
        "id": "vYcGuAWKrTx-",
        "colab_type": "code",
        "colab": {
          "base_uri": "https://localhost:8080/",
          "height": 0
        },
        "outputId": "4e53c35e-6063-4e1a-8885-775cfd9268ef"
      },
      "source": [
        "summarize_df(df_raw)"
      ],
      "execution_count": 21,
      "outputs": [
        {
          "output_type": "execute_result",
          "data": {
            "text/html": [
              "<div>\n",
              "<style scoped>\n",
              "    .dataframe tbody tr th:only-of-type {\n",
              "        vertical-align: middle;\n",
              "    }\n",
              "\n",
              "    .dataframe tbody tr th {\n",
              "        vertical-align: top;\n",
              "    }\n",
              "\n",
              "    .dataframe thead th {\n",
              "        text-align: right;\n",
              "    }\n",
              "</style>\n",
              "<table border=\"1\" class=\"dataframe\">\n",
              "  <thead>\n",
              "    <tr style=\"text-align: right;\">\n",
              "      <th></th>\n",
              "      <th>type</th>\n",
              "      <th>ncols</th>\n",
              "      <th>ncols_w_nans</th>\n",
              "      <th>n_nans</th>\n",
              "      <th>n_total</th>\n",
              "      <th>nan_frac</th>\n",
              "    </tr>\n",
              "  </thead>\n",
              "  <tbody>\n",
              "    <tr>\n",
              "      <th>0</th>\n",
              "      <td>datetime64[ns]</td>\n",
              "      <td>1</td>\n",
              "      <td>0</td>\n",
              "      <td>0</td>\n",
              "      <td>401125</td>\n",
              "      <td>0.00</td>\n",
              "    </tr>\n",
              "    <tr>\n",
              "      <th>1</th>\n",
              "      <td>float64</td>\n",
              "      <td>2</td>\n",
              "      <td>0</td>\n",
              "      <td>0</td>\n",
              "      <td>802250</td>\n",
              "      <td>0.00</td>\n",
              "    </tr>\n",
              "    <tr>\n",
              "      <th>2</th>\n",
              "      <td>int64</td>\n",
              "      <td>6</td>\n",
              "      <td>0</td>\n",
              "      <td>0</td>\n",
              "      <td>2406750</td>\n",
              "      <td>0.00</td>\n",
              "    </tr>\n",
              "    <tr>\n",
              "      <th>3</th>\n",
              "      <td>object</td>\n",
              "      <td>44</td>\n",
              "      <td>22</td>\n",
              "      <td>6002766</td>\n",
              "      <td>17649500</td>\n",
              "      <td>0.34</td>\n",
              "    </tr>\n",
              "  </tbody>\n",
              "</table>\n",
              "</div>"
            ],
            "text/plain": [
              "             type  ncols  ncols_w_nans   n_nans   n_total  nan_frac\n",
              "0  datetime64[ns]      1             0        0    401125      0.00\n",
              "1         float64      2             0        0    802250      0.00\n",
              "2           int64      6             0        0   2406750      0.00\n",
              "3          object     44            22  6002766  17649500      0.34"
            ]
          },
          "metadata": {
            "tags": []
          },
          "execution_count": 21
        }
      ]
    },
    {
      "cell_type": "code",
      "metadata": {
        "id": "mpQB_k7xrTyE",
        "colab_type": "code",
        "colab": {
          "base_uri": "https://localhost:8080/",
          "height": 0
        },
        "outputId": "f322920a-e7b5-44b9-c7d5-ecd03b811140"
      },
      "source": [
        "summarize_df(df_cats)"
      ],
      "execution_count": 22,
      "outputs": [
        {
          "output_type": "execute_result",
          "data": {
            "text/html": [
              "<div>\n",
              "<style scoped>\n",
              "    .dataframe tbody tr th:only-of-type {\n",
              "        vertical-align: middle;\n",
              "    }\n",
              "\n",
              "    .dataframe tbody tr th {\n",
              "        vertical-align: top;\n",
              "    }\n",
              "\n",
              "    .dataframe thead th {\n",
              "        text-align: right;\n",
              "    }\n",
              "</style>\n",
              "<table border=\"1\" class=\"dataframe\">\n",
              "  <thead>\n",
              "    <tr style=\"text-align: right;\">\n",
              "      <th></th>\n",
              "      <th>type</th>\n",
              "      <th>ncols</th>\n",
              "      <th>ncols_w_nans</th>\n",
              "      <th>n_nans</th>\n",
              "      <th>n_total</th>\n",
              "      <th>nan_frac</th>\n",
              "    </tr>\n",
              "  </thead>\n",
              "  <tbody>\n",
              "    <tr>\n",
              "      <th>0</th>\n",
              "      <td>bool</td>\n",
              "      <td>44</td>\n",
              "      <td>0</td>\n",
              "      <td>0</td>\n",
              "      <td>17649500</td>\n",
              "      <td>0.0</td>\n",
              "    </tr>\n",
              "    <tr>\n",
              "      <th>1</th>\n",
              "      <td>float64</td>\n",
              "      <td>3</td>\n",
              "      <td>0</td>\n",
              "      <td>0</td>\n",
              "      <td>1203375</td>\n",
              "      <td>0.0</td>\n",
              "    </tr>\n",
              "    <tr>\n",
              "      <th>2</th>\n",
              "      <td>int16</td>\n",
              "      <td>4</td>\n",
              "      <td>0</td>\n",
              "      <td>0</td>\n",
              "      <td>1604500</td>\n",
              "      <td>0.0</td>\n",
              "    </tr>\n",
              "    <tr>\n",
              "      <th>3</th>\n",
              "      <td>int64</td>\n",
              "      <td>9</td>\n",
              "      <td>0</td>\n",
              "      <td>0</td>\n",
              "      <td>3610125</td>\n",
              "      <td>0.0</td>\n",
              "    </tr>\n",
              "    <tr>\n",
              "      <th>4</th>\n",
              "      <td>int8</td>\n",
              "      <td>40</td>\n",
              "      <td>0</td>\n",
              "      <td>0</td>\n",
              "      <td>16045000</td>\n",
              "      <td>0.0</td>\n",
              "    </tr>\n",
              "  </tbody>\n",
              "</table>\n",
              "</div>"
            ],
            "text/plain": [
              "      type  ncols  ncols_w_nans  n_nans   n_total  nan_frac\n",
              "0     bool     44             0       0  17649500       0.0\n",
              "1  float64      3             0       0   1203375       0.0\n",
              "2    int16      4             0       0   1604500       0.0\n",
              "3    int64      9             0       0   3610125       0.0\n",
              "4     int8     40             0       0  16045000       0.0"
            ]
          },
          "metadata": {
            "tags": []
          },
          "execution_count": 22
        }
      ]
    },
    {
      "cell_type": "markdown",
      "metadata": {
        "id": "-LsRvP5prTyI",
        "colab_type": "text"
      },
      "source": [
        "### Split into train and test"
      ]
    },
    {
      "cell_type": "code",
      "metadata": {
        "id": "ze5tohmarTyK",
        "colab_type": "code",
        "colab": {
          "base_uri": "https://localhost:8080/",
          "height": 0
        },
        "outputId": "126c6093-8259-452f-98ed-fecf5e07d49d"
      },
      "source": [
        "(nrows, ncols) = df_cats.shape\n",
        "print('Data rows: {}'.format(nrows))"
      ],
      "execution_count": 23,
      "outputs": [
        {
          "output_type": "stream",
          "text": [
            "Data rows: 401125\n"
          ],
          "name": "stdout"
        }
      ]
    },
    {
      "cell_type": "code",
      "metadata": {
        "id": "-9HdHPEurTyO",
        "colab_type": "code",
        "colab": {}
      },
      "source": [
        "n_test = 12000 # Update to 12000\n",
        "\n",
        "np.random.seed(seed=23)\n",
        "ind_all = df_cats.index.values\n",
        "ind_rand = np.random.permutation(ind_all)\n",
        "\n",
        "ind_test = np.sort(ind_rand[:n_test])\n",
        "ind_train = np.sort(ind_rand[n_test:])"
      ],
      "execution_count": 0,
      "outputs": []
    },
    {
      "cell_type": "code",
      "metadata": {
        "id": "xeHYdKPGrTyS",
        "colab_type": "code",
        "colab": {}
      },
      "source": [
        "def split_vars(df: pd.DataFrame, colname: str) -> (pd.DataFrame, np.array):\n",
        "    \"\"\" Return a copy of DataFrame df minus one column, and the column as values\n",
        "    \"\"\"\n",
        "    resdf = df.copy(deep=True)\n",
        "    y = np.array(resdf[colname].values)\n",
        "    resdf.drop(columns=[colname], inplace=True)\n",
        "    return resdf, y"
      ],
      "execution_count": 0,
      "outputs": []
    },
    {
      "cell_type": "code",
      "metadata": {
        "id": "acCto-UsrTyX",
        "colab_type": "code",
        "colab": {}
      },
      "source": [
        "df_train, y_train = split_vars(df_cats.iloc[ind_train], 'LogSalePrice')\n",
        "df_test, y_test = split_vars(df_cats.iloc[ind_test], 'LogSalePrice')"
      ],
      "execution_count": 0,
      "outputs": []
    },
    {
      "cell_type": "code",
      "metadata": {
        "id": "gDZFzn03rTyb",
        "colab_type": "code",
        "colab": {
          "base_uri": "https://localhost:8080/",
          "height": 0
        },
        "outputId": "e9fc6919-34d6-46d8-cdf1-0f07035b51ff"
      },
      "source": [
        "print('Training data:', df_train.shape)\n",
        "print('Training target:', y_train.shape)\n",
        "\n",
        "print('Test data:', df_test.shape)\n",
        "print('Test target:', y_test.shape)"
      ],
      "execution_count": 27,
      "outputs": [
        {
          "output_type": "stream",
          "text": [
            "Training data: (389125, 99)\n",
            "Training target: (389125,)\n",
            "Test data: (12000, 99)\n",
            "Test target: (12000,)\n"
          ],
          "name": "stdout"
        }
      ]
    },
    {
      "cell_type": "markdown",
      "metadata": {
        "id": "Buht1aqUrTye",
        "colab_type": "text"
      },
      "source": [
        "### Fit model"
      ]
    },
    {
      "cell_type": "code",
      "metadata": {
        "id": "nlMhdja6rTye",
        "colab_type": "code",
        "colab": {}
      },
      "source": [
        "model = RandomForestRegressor(n_jobs=-1)"
      ],
      "execution_count": 0,
      "outputs": []
    },
    {
      "cell_type": "code",
      "metadata": {
        "id": "kU55elkfrTyi",
        "colab_type": "code",
        "colab": {
          "base_uri": "https://localhost:8080/",
          "height": 173
        },
        "outputId": "f2bd55e1-3312-4d9d-f495-6910c5ed5258"
      },
      "source": [
        "%time model.fit(df_train, y_train)"
      ],
      "execution_count": 32,
      "outputs": [
        {
          "output_type": "stream",
          "text": [
            "CPU times: user 18min 6s, sys: 3.43 s, total: 18min 10s\n",
            "Wall time: 9min 8s\n"
          ],
          "name": "stdout"
        },
        {
          "output_type": "execute_result",
          "data": {
            "text/plain": [
              "RandomForestRegressor(bootstrap=True, ccp_alpha=0.0, criterion='mse',\n",
              "                      max_depth=None, max_features='auto', max_leaf_nodes=None,\n",
              "                      max_samples=None, min_impurity_decrease=0.0,\n",
              "                      min_impurity_split=None, min_samples_leaf=1,\n",
              "                      min_samples_split=2, min_weight_fraction_leaf=0.0,\n",
              "                      n_estimators=100, n_jobs=-1, oob_score=False,\n",
              "                      random_state=None, verbose=0, warm_start=False)"
            ]
          },
          "metadata": {
            "tags": []
          },
          "execution_count": 32
        }
      ]
    },
    {
      "cell_type": "code",
      "metadata": {
        "id": "WZLLcueCrTyr",
        "colab_type": "code",
        "colab": {
          "base_uri": "https://localhost:8080/",
          "height": 34
        },
        "outputId": "abb1d05d-e926-4bf9-8129-7744feea874a"
      },
      "source": [
        "#os.makedirs(MODELPATH, exist_ok=True)\n",
        "#joblib.dump(model, MODELPATH + 'bulldozers-ranforest.joblib')"
      ],
      "execution_count": 41,
      "outputs": [
        {
          "output_type": "execute_result",
          "data": {
            "text/plain": [
              "['drive/My Drive/models/bulldozers/bulldozers-ranforest.joblib']"
            ]
          },
          "metadata": {
            "tags": []
          },
          "execution_count": 41
        }
      ]
    },
    {
      "cell_type": "code",
      "metadata": {
        "id": "1ia1NwUUrTym",
        "colab_type": "code",
        "colab": {
          "base_uri": "https://localhost:8080/",
          "height": 69
        },
        "outputId": "7af12d2d-22c2-4530-8f22-acf3a2441118"
      },
      "source": [
        "%time model.score(df_train, y_train)"
      ],
      "execution_count": 33,
      "outputs": [
        {
          "output_type": "stream",
          "text": [
            "CPU times: user 16.3 s, sys: 333 ms, total: 16.7 s\n",
            "Wall time: 9.39 s\n"
          ],
          "name": "stdout"
        },
        {
          "output_type": "execute_result",
          "data": {
            "text/plain": [
              "0.9812593868688915"
            ]
          },
          "metadata": {
            "tags": []
          },
          "execution_count": 33
        }
      ]
    },
    {
      "cell_type": "code",
      "metadata": {
        "id": "pcVjtkihrTyo",
        "colab_type": "code",
        "colab": {}
      },
      "source": [
        "def rmse(x, y):\n",
        "    return np.sqrt(((x-y)**2).mean())"
      ],
      "execution_count": 0,
      "outputs": []
    },
    {
      "cell_type": "code",
      "metadata": {
        "id": "aziVNmp4rTyv",
        "colab_type": "code",
        "colab": {}
      },
      "source": [
        ""
      ],
      "execution_count": 0,
      "outputs": []
    }
  ]
}